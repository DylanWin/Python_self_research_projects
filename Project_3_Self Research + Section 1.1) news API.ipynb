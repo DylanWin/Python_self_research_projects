{
 "cells": [
  {
   "cell_type": "markdown",
   "metadata": {},
   "source": [
    "# Predicting stock price movements with indicators:\n",
    "\n",
    "1) Simple Stock Online News Rating System\n",
    "\n",
    "1.1) Intro (Ez Example)\n",
    "\n",
    "1.2) With API\n",
    "\n",
    "\n",
    "2) Word Search Count Rating System\n",
    "\n",
    "2.1) With API"
   ]
  },
  {
   "cell_type": "markdown",
   "metadata": {},
   "source": [
    "- It is believed that most would make decisions based on latest news that provides information related to stocks of investor's interest or look up their stocks online to determine growth performance of stock.\n",
    "\n",
    "\n",
    "- The motive of this research project is to determine if indicators mentioned above are correlated to direction and magnitude of movement of stock price."
   ]
  },
  {
   "cell_type": "markdown",
   "metadata": {},
   "source": [
    "## 1) Simple Stock Online News Rating System"
   ]
  },
  {
   "cell_type": "markdown",
   "metadata": {},
   "source": [
    "### 1.1) Intro (Example with Apple News during current coronavirus period)"
   ]
  },
  {
   "cell_type": "raw",
   "metadata": {},
   "source": [
    "#### Steps:\n",
    "a) Get stock data and mean returns for stock price ( 01/01/2020 onwards, to reflect on coronavirus (-) stock trend)\n",
    "\n",
    "b) Get Apple news headlines and published dates from BBC website\n",
    "\n",
    "c) Give rating on news haeadlines (+1 for + impact on stock price, -1 for negative, 0 for unrelated)             ['Expected' column of dataframe below] \n",
    "\n",
    "d) Get rating on stock price movement based on changes in stock price by:\n",
    "    d.1) Getting stock price on published dates of news and the day after\n",
    "    \n",
    "    d.2) Getting % change in stock price from e)\n",
    "    ['Returns' column of dtaaframe below]\n",
    "    \n",
    "    d.3) Rate +1 if % change from f) is larger than (more (+)) negative mean returns of stock, -1 if lower\n",
    "    ['Observed' column of dataframe below]\n",
    "  \n",
    "e) Remove all rows with rating 0 from c) since news has no effect on stock prices (unrelated)\n",
    "\n",
    "# This Section is to determine if ' Stock News' is a good predictor of stock price movements, also assuming that there are no other factors affecting the majority decision of buying or selling stock leading to stock price change."
   ]
  },
  {
   "cell_type": "code",
   "execution_count": 1,
   "metadata": {},
   "outputs": [],
   "source": [
    "# Import required packages\n",
    "import bs4\n",
    "import pandas as pd\n",
    "import requests\n",
    "import datetime\n",
    "import calendar\n",
    "import json\n",
    "import os\n",
    "import matplotlib.pyplot as plt\n",
    "from alpha_vantage.timeseries import TimeSeries"
   ]
  },
  {
   "cell_type": "code",
   "execution_count": 2,
   "metadata": {},
   "outputs": [],
   "source": [
    "# Set as current directory\n",
    "os.chdir('C:\\\\Users\\\\UX330\\\\Documents\\\\A Uni\\\\Git\\\\Python project self research\\\\Project 1')"
   ]
  },
  {
   "cell_type": "markdown",
   "metadata": {},
   "source": [
    "### a.)"
   ]
  },
  {
   "cell_type": "code",
   "execution_count": 3,
   "metadata": {},
   "outputs": [],
   "source": [
    "# Execute function with API keys\n",
    "with open('ak.txt', 'r') as myFile:\n",
    "    keys=myFile.read()\n",
    "    ts=TimeSeries(key=keys, output_format='pandas')"
   ]
  },
  {
   "cell_type": "code",
   "execution_count": 4,
   "metadata": {},
   "outputs": [],
   "source": [
    "# Get the data\n",
    "aapl_day, meta_data=ts.get_daily(symbol='AAPL', outputsize='full')"
   ]
  },
  {
   "cell_type": "code",
   "execution_count": 5,
   "metadata": {},
   "outputs": [
    {
     "data": {
      "text/html": [
       "<div>\n",
       "<style scoped>\n",
       "    .dataframe tbody tr th:only-of-type {\n",
       "        vertical-align: middle;\n",
       "    }\n",
       "\n",
       "    .dataframe tbody tr th {\n",
       "        vertical-align: top;\n",
       "    }\n",
       "\n",
       "    .dataframe thead th {\n",
       "        text-align: right;\n",
       "    }\n",
       "</style>\n",
       "<table border=\"1\" class=\"dataframe\">\n",
       "  <thead>\n",
       "    <tr style=\"text-align: right;\">\n",
       "      <th></th>\n",
       "      <th>1. open</th>\n",
       "      <th>3. low</th>\n",
       "      <th>4. close</th>\n",
       "      <th>2. high</th>\n",
       "      <th>5. volume</th>\n",
       "    </tr>\n",
       "    <tr>\n",
       "      <th>date</th>\n",
       "      <th></th>\n",
       "      <th></th>\n",
       "      <th></th>\n",
       "      <th></th>\n",
       "      <th></th>\n",
       "    </tr>\n",
       "  </thead>\n",
       "  <tbody>\n",
       "    <tr>\n",
       "      <th>2000-03-24</th>\n",
       "      <td>142.44</td>\n",
       "      <td>135.50</td>\n",
       "      <td>138.69</td>\n",
       "      <td>143.94</td>\n",
       "      <td>3990300.0</td>\n",
       "    </tr>\n",
       "    <tr>\n",
       "      <th>2000-03-27</th>\n",
       "      <td>137.63</td>\n",
       "      <td>136.88</td>\n",
       "      <td>139.56</td>\n",
       "      <td>144.75</td>\n",
       "      <td>2492700.0</td>\n",
       "    </tr>\n",
       "    <tr>\n",
       "      <th>2000-03-28</th>\n",
       "      <td>137.25</td>\n",
       "      <td>137.13</td>\n",
       "      <td>139.13</td>\n",
       "      <td>142.00</td>\n",
       "      <td>1812200.0</td>\n",
       "    </tr>\n",
       "    <tr>\n",
       "      <th>2000-03-29</th>\n",
       "      <td>139.38</td>\n",
       "      <td>133.83</td>\n",
       "      <td>135.94</td>\n",
       "      <td>139.44</td>\n",
       "      <td>2141400.0</td>\n",
       "    </tr>\n",
       "    <tr>\n",
       "      <th>2000-03-30</th>\n",
       "      <td>133.56</td>\n",
       "      <td>125.44</td>\n",
       "      <td>125.75</td>\n",
       "      <td>137.69</td>\n",
       "      <td>3700000.0</td>\n",
       "    </tr>\n",
       "  </tbody>\n",
       "</table>\n",
       "</div>"
      ],
      "text/plain": [
       "            1. open  3. low  4. close  2. high  5. volume\n",
       "date                                                     \n",
       "2000-03-24   142.44  135.50    138.69   143.94  3990300.0\n",
       "2000-03-27   137.63  136.88    139.56   144.75  2492700.0\n",
       "2000-03-28   137.25  137.13    139.13   142.00  1812200.0\n",
       "2000-03-29   139.38  133.83    135.94   139.44  2141400.0\n",
       "2000-03-30   133.56  125.44    125.75   137.69  3700000.0"
      ]
     },
     "execution_count": 5,
     "metadata": {},
     "output_type": "execute_result"
    }
   ],
   "source": [
    "# Display first few rows of data\n",
    "aapl_day.head()"
   ]
  },
  {
   "cell_type": "code",
   "execution_count": 6,
   "metadata": {},
   "outputs": [],
   "source": [
    "# Resampling weekend stock data by interpolation and extracting only data from 1st January 2020 onwards \n",
    "# to match stock data since the beginning of coronavirus.\n",
    "aapl_day=aapl_day.resample('24h').interpolate()\n",
    "aapl_close=aapl_day['4. close']\n",
    "aapl_day_2019=pd.DataFrame(aapl_close['2020-01-01':])"
   ]
  },
  {
   "cell_type": "code",
   "execution_count": 7,
   "metadata": {},
   "outputs": [
    {
     "data": {
      "text/plain": [
       "4. close   -0.001168\n",
       "dtype: float64"
      ]
     },
     "execution_count": 7,
     "metadata": {},
     "output_type": "execute_result"
    }
   ],
   "source": [
    "# Determine average returns to be set as benchmarks in later indictaor\n",
    "aapl_returns=aapl_day_2019.pct_change()\n",
    "aapl_mean_returns=aapl_returns.mean()\n",
    "aapl_mean_returns"
   ]
  },
  {
   "cell_type": "code",
   "execution_count": 8,
   "metadata": {},
   "outputs": [
    {
     "data": {
      "text/plain": [
       "[<matplotlib.lines.Line2D at 0x2c04bc6e978>]"
      ]
     },
     "execution_count": 8,
     "metadata": {},
     "output_type": "execute_result"
    },
    {
     "data": {
      "image/png": "[encoded data removed]",
      "text/plain": [
       "<Figure size 432x288 with 1 Axes>"
      ]
     },
     "metadata": {
      "needs_background": "light"
     },
     "output_type": "display_data"
    }
   ],
   "source": [
    "# Plot of stock price (closing)\n",
    "plt.plot(aapl_day_2019)"
   ]
  },
  {
   "cell_type": "markdown",
   "metadata": {},
   "source": [
    "### b.)"
   ]
  },
  {
   "cell_type": "code",
   "execution_count": 9,
   "metadata": {},
   "outputs": [],
   "source": [
    "# Getting latest Apple news from bbc website\n",
    "\n",
    "bbc_url = 'https://www.bbc.com/news/topics/crr7mlg0gqqt/apple'\n",
    "bbc_response = requests.get(bbc_url)\n",
    "bbc_title=[]\n",
    "bbc_publish_date=[]\n",
    "\n",
    "bbc_soup = bs4.BeautifulSoup(bbc_response.text, 'lxml')\n",
    "bbc_headlines = bbc_soup.find_all(attrs={\"class\": \"lx-stream-post__header-text\"})\n",
    "\n",
    "\n",
    "bbc_all_dates=bbc_soup.find_all(attrs={\"class\": \"qa-meta-date gs-u-mr gs-u-display-inline-block\"})\n",
    "#all_dates2=soup.find_all(attrs={\"class\": \"qa-meta-date gs-u-mr gs-u-display-inline-block\"})\n",
    "\n",
    "\n",
    "for bbc_headline in bbc_headlines:\n",
    "    bbc_title.append(bbc_headline.text)\n",
    "    \n",
    "for bbc_dates in bbc_all_dates:\n",
    "    bbc_publish_date.append(bbc_dates.text)"
   ]
  },
  {
   "cell_type": "code",
   "execution_count": 10,
   "metadata": {},
   "outputs": [
    {
     "data": {
      "text/plain": [
       "['Movie streaming boom as people stay at home',\n",
       " 'How to make a WhatsApp video call',\n",
       " 'How to receive a video call without apps',\n",
       " 'How to make a FaceTime call',\n",
       " 'Smartphone sales collapse amid coronavirus crisis',\n",
       " 'Apple hit with record €1.1bn fine in France',\n",
       " \"Apple's annual showcase, WWDC, online only\",\n",
       " 'Apple reopens all its China stores',\n",
       " 'Tricks and tools for better working from home']"
      ]
     },
     "execution_count": 10,
     "metadata": {},
     "output_type": "execute_result"
    }
   ],
   "source": [
    "bbc_title=bbc_title[:-1]\n",
    "bbc_title"
   ]
  },
  {
   "cell_type": "code",
   "execution_count": 11,
   "metadata": {},
   "outputs": [
    {
     "data": {
      "text/plain": [
       "['22 Mar',\n",
       " '22 Mar',\n",
       " '22 Mar',\n",
       " '20 Mar',\n",
       " '16 Mar',\n",
       " '13 Mar',\n",
       " '13 Mar',\n",
       " '10 Mar',\n",
       " '3 Mar']"
      ]
     },
     "execution_count": 11,
     "metadata": {},
     "output_type": "execute_result"
    }
   ],
   "source": [
    "bbc_publish_date"
   ]
  },
  {
   "cell_type": "code",
   "execution_count": 12,
   "metadata": {},
   "outputs": [
    {
     "data": {
      "text/plain": [
       "[datetime.datetime(2020, 3, 22, 0, 0),\n",
       " datetime.datetime(2020, 3, 22, 0, 0),\n",
       " datetime.datetime(2020, 3, 22, 0, 0),\n",
       " datetime.datetime(2020, 3, 20, 0, 0),\n",
       " datetime.datetime(2020, 3, 16, 0, 0),\n",
       " datetime.datetime(2020, 3, 13, 0, 0),\n",
       " datetime.datetime(2020, 3, 13, 0, 0),\n",
       " datetime.datetime(2020, 3, 10, 0, 0),\n",
       " datetime.datetime(2020, 3, 3, 0, 0)]"
      ]
     },
     "execution_count": 12,
     "metadata": {},
     "output_type": "execute_result"
    }
   ],
   "source": [
    "for i in range(0,len(bbc_publish_date)):\n",
    "    bbc_publish_date[i]=bbc_publish_date[i]+' 2020'\n",
    "    bbc_publish_date[i]= datetime.datetime.strptime(bbc_publish_date[i], '%d %b %Y')\n",
    "\n",
    "bbc_publish_date"
   ]
  },
  {
   "cell_type": "code",
   "execution_count": 13,
   "metadata": {},
   "outputs": [
    {
     "data": {
      "text/html": [
       "<div>\n",
       "<style scoped>\n",
       "    .dataframe tbody tr th:only-of-type {\n",
       "        vertical-align: middle;\n",
       "    }\n",
       "\n",
       "    .dataframe tbody tr th {\n",
       "        vertical-align: top;\n",
       "    }\n",
       "\n",
       "    .dataframe thead th {\n",
       "        text-align: right;\n",
       "    }\n",
       "</style>\n",
       "<table border=\"1\" class=\"dataframe\">\n",
       "  <thead>\n",
       "    <tr style=\"text-align: right;\">\n",
       "      <th></th>\n",
       "      <th>Date</th>\n",
       "      <th>News</th>\n",
       "    </tr>\n",
       "  </thead>\n",
       "  <tbody>\n",
       "    <tr>\n",
       "      <th>0</th>\n",
       "      <td>2020-03-22</td>\n",
       "      <td>Movie streaming boom as people stay at home</td>\n",
       "    </tr>\n",
       "    <tr>\n",
       "      <th>1</th>\n",
       "      <td>2020-03-22</td>\n",
       "      <td>How to make a WhatsApp video call</td>\n",
       "    </tr>\n",
       "    <tr>\n",
       "      <th>2</th>\n",
       "      <td>2020-03-22</td>\n",
       "      <td>How to receive a video call without apps</td>\n",
       "    </tr>\n",
       "    <tr>\n",
       "      <th>3</th>\n",
       "      <td>2020-03-20</td>\n",
       "      <td>How to make a FaceTime call</td>\n",
       "    </tr>\n",
       "    <tr>\n",
       "      <th>4</th>\n",
       "      <td>2020-03-16</td>\n",
       "      <td>Smartphone sales collapse amid coronavirus crisis</td>\n",
       "    </tr>\n",
       "    <tr>\n",
       "      <th>5</th>\n",
       "      <td>2020-03-13</td>\n",
       "      <td>Apple hit with record €1.1bn fine in France</td>\n",
       "    </tr>\n",
       "    <tr>\n",
       "      <th>6</th>\n",
       "      <td>2020-03-13</td>\n",
       "      <td>Apple's annual showcase, WWDC, online only</td>\n",
       "    </tr>\n",
       "    <tr>\n",
       "      <th>7</th>\n",
       "      <td>2020-03-10</td>\n",
       "      <td>Apple reopens all its China stores</td>\n",
       "    </tr>\n",
       "    <tr>\n",
       "      <th>8</th>\n",
       "      <td>2020-03-03</td>\n",
       "      <td>Tricks and tools for better working from home</td>\n",
       "    </tr>\n",
       "  </tbody>\n",
       "</table>\n",
       "</div>"
      ],
      "text/plain": [
       "        Date                                               News\n",
       "0 2020-03-22        Movie streaming boom as people stay at home\n",
       "1 2020-03-22                  How to make a WhatsApp video call\n",
       "2 2020-03-22           How to receive a video call without apps\n",
       "3 2020-03-20                        How to make a FaceTime call\n",
       "4 2020-03-16  Smartphone sales collapse amid coronavirus crisis\n",
       "5 2020-03-13        Apple hit with record €1.1bn fine in France\n",
       "6 2020-03-13         Apple's annual showcase, WWDC, online only\n",
       "7 2020-03-10                 Apple reopens all its China stores\n",
       "8 2020-03-03      Tricks and tools for better working from home"
      ]
     },
     "execution_count": 13,
     "metadata": {},
     "output_type": "execute_result"
    }
   ],
   "source": [
    "data={'News': bbc_title, 'Date': bbc_publish_date}\n",
    "data_df=pd.DataFrame(data=data)\n",
    "data_df"
   ]
  },
  {
   "cell_type": "markdown",
   "metadata": {},
   "source": [
    "### c.)"
   ]
  },
  {
   "cell_type": "code",
   "execution_count": 14,
   "metadata": {},
   "outputs": [
    {
     "name": "stdout",
     "output_type": "stream",
     "text": [
      "1\n"
     ]
    },
    {
     "name": "stderr",
     "output_type": "stream",
     "text": [
      "C:\\Users\\UX330\\Anaconda3\\envs\\env_zipline\\lib\\site-packages\\ipykernel_launcher.py:6: SettingWithCopyWarning: \n",
      "A value is trying to be set on a copy of a slice from a DataFrame\n",
      "\n",
      "See the caveats in the documentation: http://pandas.pydata.org/pandas-docs/stable/indexing.html#indexing-view-versus-copy\n",
      "  \n"
     ]
    },
    {
     "name": "stdout",
     "output_type": "stream",
     "text": [
      "0\n",
      "0\n",
      "0\n",
      "-1\n",
      "-1\n",
      "-1\n",
      "1\n",
      "0\n"
     ]
    }
   ],
   "source": [
    "data_df['Expected']=0\n",
    "indicator=data_df['Expected']\n",
    "n=len(data_df)\n",
    "\n",
    "for i in range(0,n):\n",
    "    indicator[i]=input()\n",
    "\n",
    "data_df['Expected']=indicator"
   ]
  },
  {
   "cell_type": "code",
   "execution_count": 15,
   "metadata": {},
   "outputs": [
    {
     "data": {
      "text/html": [
       "<div>\n",
       "<style scoped>\n",
       "    .dataframe tbody tr th:only-of-type {\n",
       "        vertical-align: middle;\n",
       "    }\n",
       "\n",
       "    .dataframe tbody tr th {\n",
       "        vertical-align: top;\n",
       "    }\n",
       "\n",
       "    .dataframe thead th {\n",
       "        text-align: right;\n",
       "    }\n",
       "</style>\n",
       "<table border=\"1\" class=\"dataframe\">\n",
       "  <thead>\n",
       "    <tr style=\"text-align: right;\">\n",
       "      <th></th>\n",
       "      <th>Date</th>\n",
       "      <th>News</th>\n",
       "      <th>Expected</th>\n",
       "    </tr>\n",
       "  </thead>\n",
       "  <tbody>\n",
       "    <tr>\n",
       "      <th>0</th>\n",
       "      <td>2020-03-22</td>\n",
       "      <td>Movie streaming boom as people stay at home</td>\n",
       "      <td>1</td>\n",
       "    </tr>\n",
       "    <tr>\n",
       "      <th>1</th>\n",
       "      <td>2020-03-22</td>\n",
       "      <td>How to make a WhatsApp video call</td>\n",
       "      <td>0</td>\n",
       "    </tr>\n",
       "    <tr>\n",
       "      <th>2</th>\n",
       "      <td>2020-03-22</td>\n",
       "      <td>How to receive a video call without apps</td>\n",
       "      <td>0</td>\n",
       "    </tr>\n",
       "    <tr>\n",
       "      <th>3</th>\n",
       "      <td>2020-03-20</td>\n",
       "      <td>How to make a FaceTime call</td>\n",
       "      <td>0</td>\n",
       "    </tr>\n",
       "    <tr>\n",
       "      <th>4</th>\n",
       "      <td>2020-03-16</td>\n",
       "      <td>Smartphone sales collapse amid coronavirus crisis</td>\n",
       "      <td>-1</td>\n",
       "    </tr>\n",
       "    <tr>\n",
       "      <th>5</th>\n",
       "      <td>2020-03-13</td>\n",
       "      <td>Apple hit with record €1.1bn fine in France</td>\n",
       "      <td>-1</td>\n",
       "    </tr>\n",
       "    <tr>\n",
       "      <th>6</th>\n",
       "      <td>2020-03-13</td>\n",
       "      <td>Apple's annual showcase, WWDC, online only</td>\n",
       "      <td>-1</td>\n",
       "    </tr>\n",
       "    <tr>\n",
       "      <th>7</th>\n",
       "      <td>2020-03-10</td>\n",
       "      <td>Apple reopens all its China stores</td>\n",
       "      <td>1</td>\n",
       "    </tr>\n",
       "    <tr>\n",
       "      <th>8</th>\n",
       "      <td>2020-03-03</td>\n",
       "      <td>Tricks and tools for better working from home</td>\n",
       "      <td>0</td>\n",
       "    </tr>\n",
       "  </tbody>\n",
       "</table>\n",
       "</div>"
      ],
      "text/plain": [
       "        Date                                               News  Expected\n",
       "0 2020-03-22        Movie streaming boom as people stay at home         1\n",
       "1 2020-03-22                  How to make a WhatsApp video call         0\n",
       "2 2020-03-22           How to receive a video call without apps         0\n",
       "3 2020-03-20                        How to make a FaceTime call         0\n",
       "4 2020-03-16  Smartphone sales collapse amid coronavirus crisis        -1\n",
       "5 2020-03-13        Apple hit with record €1.1bn fine in France        -1\n",
       "6 2020-03-13         Apple's annual showcase, WWDC, online only        -1\n",
       "7 2020-03-10                 Apple reopens all its China stores         1\n",
       "8 2020-03-03      Tricks and tools for better working from home         0"
      ]
     },
     "execution_count": 15,
     "metadata": {},
     "output_type": "execute_result"
    }
   ],
   "source": [
    "# Extracted data from bbc apple news website and also predicted stock price rise/fall indicator\n",
    "aapl_day_2019=aapl_day_2019.reset_index()\n",
    "data_df"
   ]
  },
  {
   "cell_type": "markdown",
   "metadata": {},
   "source": [
    "### d.)"
   ]
  },
  {
   "cell_type": "code",
   "execution_count": 16,
   "metadata": {},
   "outputs": [],
   "source": [
    "data_df_date=data_df['Date']\n",
    "aapl_date=aapl_day_2019['date']\n",
    "\n",
    "all_observed=[]\n",
    "all_returns=[]\n",
    "\n",
    "for i in range(0,len(data_df)): \n",
    "    row_index_1=aapl_date.loc[aapl_date == data_df_date[i]].index\n",
    "    row_index_1=row_index_1[0]\n",
    "    row_index_2=row_index_1+1\n",
    "    value_1, value_2= aapl_day_2019.iloc[row_index_1]['4. close'], aapl_day_2019.iloc[row_index_2]['4. close']\n",
    "    returns=((value_2-value_1)/value_2)\n",
    "    \n",
    "    if returns<=float(aapl_mean_returns):\n",
    "        all_observed.append(-1)\n",
    "    else:\n",
    "        all_observed.append(1)\n",
    "        \n",
    "    all_returns.append(returns)\n",
    "    "
   ]
  },
  {
   "cell_type": "code",
   "execution_count": 17,
   "metadata": {},
   "outputs": [],
   "source": [
    "data_df['Observed']=all_observed\n",
    "data_df['Returns']=all_returns\n"
   ]
  },
  {
   "cell_type": "code",
   "execution_count": 18,
   "metadata": {},
   "outputs": [
    {
     "data": {
      "text/html": [
       "<div>\n",
       "<style scoped>\n",
       "    .dataframe tbody tr th:only-of-type {\n",
       "        vertical-align: middle;\n",
       "    }\n",
       "\n",
       "    .dataframe tbody tr th {\n",
       "        vertical-align: top;\n",
       "    }\n",
       "\n",
       "    .dataframe thead th {\n",
       "        text-align: right;\n",
       "    }\n",
       "</style>\n",
       "<table border=\"1\" class=\"dataframe\">\n",
       "  <thead>\n",
       "    <tr style=\"text-align: right;\">\n",
       "      <th></th>\n",
       "      <th>Date</th>\n",
       "      <th>News</th>\n",
       "      <th>Expected</th>\n",
       "      <th>Observed</th>\n",
       "      <th>Returns</th>\n",
       "    </tr>\n",
       "  </thead>\n",
       "  <tbody>\n",
       "    <tr>\n",
       "      <th>0</th>\n",
       "      <td>2020-03-22</td>\n",
       "      <td>Movie streaming boom as people stay at home</td>\n",
       "      <td>1</td>\n",
       "      <td>-1</td>\n",
       "      <td>-0.007235</td>\n",
       "    </tr>\n",
       "    <tr>\n",
       "      <th>1</th>\n",
       "      <td>2020-03-22</td>\n",
       "      <td>How to make a WhatsApp video call</td>\n",
       "      <td>0</td>\n",
       "      <td>-1</td>\n",
       "      <td>-0.007235</td>\n",
       "    </tr>\n",
       "    <tr>\n",
       "      <th>2</th>\n",
       "      <td>2020-03-22</td>\n",
       "      <td>How to receive a video call without apps</td>\n",
       "      <td>0</td>\n",
       "      <td>-1</td>\n",
       "      <td>-0.007235</td>\n",
       "    </tr>\n",
       "    <tr>\n",
       "      <th>3</th>\n",
       "      <td>2020-03-20</td>\n",
       "      <td>How to make a FaceTime call</td>\n",
       "      <td>0</td>\n",
       "      <td>-1</td>\n",
       "      <td>-0.007132</td>\n",
       "    </tr>\n",
       "    <tr>\n",
       "      <th>4</th>\n",
       "      <td>2020-03-16</td>\n",
       "      <td>Smartphone sales collapse amid coronavirus crisis</td>\n",
       "      <td>-1</td>\n",
       "      <td>1</td>\n",
       "      <td>0.042118</td>\n",
       "    </tr>\n",
       "    <tr>\n",
       "      <th>5</th>\n",
       "      <td>2020-03-13</td>\n",
       "      <td>Apple hit with record €1.1bn fine in France</td>\n",
       "      <td>-1</td>\n",
       "      <td>-1</td>\n",
       "      <td>-0.044804</td>\n",
       "    </tr>\n",
       "    <tr>\n",
       "      <th>6</th>\n",
       "      <td>2020-03-13</td>\n",
       "      <td>Apple's annual showcase, WWDC, online only</td>\n",
       "      <td>-1</td>\n",
       "      <td>-1</td>\n",
       "      <td>-0.044804</td>\n",
       "    </tr>\n",
       "    <tr>\n",
       "      <th>7</th>\n",
       "      <td>2020-03-10</td>\n",
       "      <td>Apple reopens all its China stores</td>\n",
       "      <td>1</td>\n",
       "      <td>-1</td>\n",
       "      <td>-0.035980</td>\n",
       "    </tr>\n",
       "    <tr>\n",
       "      <th>8</th>\n",
       "      <td>2020-03-03</td>\n",
       "      <td>Tricks and tools for better working from home</td>\n",
       "      <td>0</td>\n",
       "      <td>1</td>\n",
       "      <td>0.044328</td>\n",
       "    </tr>\n",
       "  </tbody>\n",
       "</table>\n",
       "</div>"
      ],
      "text/plain": [
       "        Date                                               News  Expected  \\\n",
       "0 2020-03-22        Movie streaming boom as people stay at home         1   \n",
       "1 2020-03-22                  How to make a WhatsApp video call         0   \n",
       "2 2020-03-22           How to receive a video call without apps         0   \n",
       "3 2020-03-20                        How to make a FaceTime call         0   \n",
       "4 2020-03-16  Smartphone sales collapse amid coronavirus crisis        -1   \n",
       "5 2020-03-13        Apple hit with record €1.1bn fine in France        -1   \n",
       "6 2020-03-13         Apple's annual showcase, WWDC, online only        -1   \n",
       "7 2020-03-10                 Apple reopens all its China stores         1   \n",
       "8 2020-03-03      Tricks and tools for better working from home         0   \n",
       "\n",
       "   Observed   Returns  \n",
       "0        -1 -0.007235  \n",
       "1        -1 -0.007235  \n",
       "2        -1 -0.007235  \n",
       "3        -1 -0.007132  \n",
       "4         1  0.042118  \n",
       "5        -1 -0.044804  \n",
       "6        -1 -0.044804  \n",
       "7        -1 -0.035980  \n",
       "8         1  0.044328  "
      ]
     },
     "execution_count": 18,
     "metadata": {},
     "output_type": "execute_result"
    }
   ],
   "source": [
    "data_df"
   ]
  },
  {
   "cell_type": "markdown",
   "metadata": {},
   "source": [
    "### e.)"
   ]
  },
  {
   "cell_type": "code",
   "execution_count": 19,
   "metadata": {},
   "outputs": [
    {
     "data": {
      "text/html": [
       "<div>\n",
       "<style scoped>\n",
       "    .dataframe tbody tr th:only-of-type {\n",
       "        vertical-align: middle;\n",
       "    }\n",
       "\n",
       "    .dataframe tbody tr th {\n",
       "        vertical-align: top;\n",
       "    }\n",
       "\n",
       "    .dataframe thead th {\n",
       "        text-align: right;\n",
       "    }\n",
       "</style>\n",
       "<table border=\"1\" class=\"dataframe\">\n",
       "  <thead>\n",
       "    <tr style=\"text-align: right;\">\n",
       "      <th></th>\n",
       "      <th>Date</th>\n",
       "      <th>News</th>\n",
       "      <th>Expected</th>\n",
       "      <th>Observed</th>\n",
       "      <th>Returns</th>\n",
       "    </tr>\n",
       "  </thead>\n",
       "  <tbody>\n",
       "    <tr>\n",
       "      <th>0</th>\n",
       "      <td>2020-03-22</td>\n",
       "      <td>Movie streaming boom as people stay at home</td>\n",
       "      <td>1</td>\n",
       "      <td>-1</td>\n",
       "      <td>-0.007235</td>\n",
       "    </tr>\n",
       "    <tr>\n",
       "      <th>4</th>\n",
       "      <td>2020-03-16</td>\n",
       "      <td>Smartphone sales collapse amid coronavirus crisis</td>\n",
       "      <td>-1</td>\n",
       "      <td>1</td>\n",
       "      <td>0.042118</td>\n",
       "    </tr>\n",
       "    <tr>\n",
       "      <th>5</th>\n",
       "      <td>2020-03-13</td>\n",
       "      <td>Apple hit with record €1.1bn fine in France</td>\n",
       "      <td>-1</td>\n",
       "      <td>-1</td>\n",
       "      <td>-0.044804</td>\n",
       "    </tr>\n",
       "    <tr>\n",
       "      <th>6</th>\n",
       "      <td>2020-03-13</td>\n",
       "      <td>Apple's annual showcase, WWDC, online only</td>\n",
       "      <td>-1</td>\n",
       "      <td>-1</td>\n",
       "      <td>-0.044804</td>\n",
       "    </tr>\n",
       "    <tr>\n",
       "      <th>7</th>\n",
       "      <td>2020-03-10</td>\n",
       "      <td>Apple reopens all its China stores</td>\n",
       "      <td>1</td>\n",
       "      <td>-1</td>\n",
       "      <td>-0.035980</td>\n",
       "    </tr>\n",
       "  </tbody>\n",
       "</table>\n",
       "</div>"
      ],
      "text/plain": [
       "        Date                                               News  Expected  \\\n",
       "0 2020-03-22        Movie streaming boom as people stay at home         1   \n",
       "4 2020-03-16  Smartphone sales collapse amid coronavirus crisis        -1   \n",
       "5 2020-03-13        Apple hit with record €1.1bn fine in France        -1   \n",
       "6 2020-03-13         Apple's annual showcase, WWDC, online only        -1   \n",
       "7 2020-03-10                 Apple reopens all its China stores         1   \n",
       "\n",
       "   Observed   Returns  \n",
       "0        -1 -0.007235  \n",
       "4         1  0.042118  \n",
       "5        -1 -0.044804  \n",
       "6        -1 -0.044804  \n",
       "7        -1 -0.035980  "
      ]
     },
     "execution_count": 19,
     "metadata": {},
     "output_type": "execute_result"
    }
   ],
   "source": [
    "data_df=data_df[data_df['Expected']!=0]\n",
    "data_df"
   ]
  },
  {
   "cell_type": "markdown",
   "metadata": {},
   "source": [
    "## Summary\n",
    "It seems that the Apple News was only abe to get predict 40% of the stock price movements correctly( 2 out of 5),\n",
    "but note that:\n",
    "\n",
    "1) this is only a very small dataset as example (only able to extract first few latest news from website)\n",
    "\n",
    "2) coronavirus virus certainly adds to the market uncertainty and stockholder panicking \n",
    "\n",
    "thus making it hard to predict future market movements although long term trend is a \n",
    "expected to be a downward slide in prices as seen in earlier plots."
   ]
  },
  {
   "cell_type": "markdown",
   "metadata": {},
   "source": [
    "### 1.2) News Rating System done with API"
   ]
  },
  {
   "cell_type": "raw",
   "metadata": {},
   "source": [
    "#### Steps (Same as previous steps in Section 1.1), difference is that data is obtained from News API):\n",
    "a) Get stock data and mean returns for stock price ( 01/01/2020 onwards, to reflect on coronavirus (-) stock trend)\n",
    "\n",
    "b) Get all Apple news headlines from News API from 26/02/2020 onwards\n",
    "\n",
    "c) Give rating on news haeadlines (+1 for + impact on stock price, -1 for negative, 0 for unrelated)             ['Expected' column of dataframe below] \n",
    "\n",
    "d) Get rating on stock price movement based on changes in stock price by:\n",
    "    d.1) Getting stock price on published dates of news and the day after\n",
    "    \n",
    "    d.2) Getting % change in stock price from e)\n",
    "    ['Returns' column of dtaaframe below]\n",
    "    \n",
    "    d.3) Rate +1 if % change from f) is larger than (more (+)) negative mean returns of stock, -1 if lower\n",
    "    ['Observed' column of dataframe below]\n",
    "  \n",
    "e) Remove all rows with rating 0 from c) since news has no effect on stock prices (unrelated)\n",
    "\n",
    "# This Section is to determine if ' Stock News' is a good predictor of stock price movements, also assuming that there are no other factors affecting the majority decision of buying or selling stock leading to stock price change."
   ]
  },
  {
   "cell_type": "markdown",
   "metadata": {},
   "source": [
    "### b.)"
   ]
  },
  {
   "cell_type": "code",
   "execution_count": 20,
   "metadata": {},
   "outputs": [],
   "source": [
    "url_aapl = ('http://newsapi.org/v2/everything?'\n",
    "       'q=Apple&'\n",
    "       'from=2020-02-26&'\n",
    "       'to=2020-03-25&' \n",
    "       'sortBy=popularity&'\n",
    "       'apiKey=647cb4a9ccad4020ac42a2c292b82419')\n",
    "\n",
    "response = requests.get(url_aapl)"
   ]
  },
  {
   "cell_type": "code",
   "execution_count": 21,
   "metadata": {},
   "outputs": [
    {
     "name": "stdout",
     "output_type": "stream",
     "text": [
      "{'totalResults': 66365, 'status': 'ok', 'articles': [{'publishedAt': '2020-03-10T14:00:00Z', 'content': 'Apple recently updated its App Store guidelines to allow apps to blast you with push notifications that contain advertising, marketing, or other promotions. The move doesnt come as much of a surprise, given that Apple has been doing this within its own apps f… [+2688 chars]', 'source': {'name': 'Lifehacker.com', 'id': None}, 'url': 'https://lifehacker.com/how-to-prevent-spammy-notifications-from-iphone-and-ipa-1842218148', 'description': 'Apple recently updated its App Store guidelines to allow apps to blast you with push notifications that contain advertising, marketing, or other promotions. The move doesn’t come as much of a surprise, given that Apple has been doing this within its own apps …', 'title': 'How to Prevent Spammy Notifications from iPhone and iPad Apps', 'author': 'David Murphy', 'urlToImage': 'https://i.kinja-img.com/gawker-media/image/upload/c_fill,f_auto,fl_progressive,g_center,h_675,pg_1,q_80,w_1200/xsdk0eohf77syqj6lyxc.jpg'}, {'publishedAt': '2020-03-17T17:45:00Z', 'content': 'In order to help reduce the spread of the coronavirus, Apple announced last week that it will be closing all of its stores outside of China until March 27th. With no Apple Store to go to, that might pose a problem should your iPhone break or if your phone (or… [+861 chars]', 'source': {'name': 'Lifehacker.com', 'id': None}, 'url': 'https://lifehacker.com/what-to-do-if-your-iphone-breaks-while-apple-stores-are-1842378766', 'description': 'In order to help reduce the spread of the coronavirus, Apple announced last week that it will be closing all of its stores outside of China until March 27th. With no Apple Store to go to, that might pose a problem should your iPhone break or if your phone (or…', 'title': 'What to Do if Your iPhone Breaks While Apple Stores Are Closed', 'author': 'Emily Price', 'urlToImage': 'https://i.kinja-img.com/gawker-media/image/upload/c_fill,f_auto,fl_progressive,g_center,h_675,pg_1,q_80,w_1200/l43ks7bgtl8n8j4yuddk.jpg'}, {'publishedAt': '2020-02-26T16:00:00Z', 'content': 'One bit of joy from Apples October 2018 announcementbeyond USB-C finally arriving on the iPad Prowas the way Apple handled the event invitations. Every single invitation Apple sent out had a unique piece of Apple art, beautiful remixes of its logo that are a … [+962 chars]', 'source': {'name': 'Lifehacker.com', 'id': None}, 'url': 'https://lifehacker.com/the-best-mac-screensaver-for-apple-devotees-1841914102', 'description': 'One bit of joy from Apple’s October 2018 announcement—beyond USB-C finally arriving on the iPad Pro—was the way Apple handled the event invitations. Every single invitation Apple sent out had a unique piece of Apple art, beautiful remixes of its logo that are…', 'title': 'The Best Mac Screensaver for Apple Devotees', 'author': 'David Murphy', 'urlToImage': 'https://i.kinja-img.com/gawker-media/image/upload/c_fill,f_auto,fl_progressive,g_center,h_675,pg_1,q_80,w_1200/i9jc7f2wazzsocasiqbt.jpg'}, {'publishedAt': '2020-02-27T19:45:00Z', 'content': 'Apple is teaming up with Johnson &amp; Johnson on a Heartlinestudy, which will test the Apple Watchs ability for detecting atrial fibrillation (AFib)an early warning sign for strokes. Anyone 65 years of age of older may be able to get an Apple Watch Series 5 … [+1112 chars]', 'source': {'name': 'Lifehacker.com', 'id': None}, 'url': 'https://lifehacker.com/if-youre-over-65-you-may-be-able-to-get-an-apple-watch-1841957133', 'description': 'Apple is teaming up with Johnson & Johnson on a “Heartline”study, which will test the Apple Watch’s ability for detecting atrial fibrillation (AFib)—an early warning sign for strokes. Anyone 65 years of age of older may be able to get an Apple Watch Series 5 …', 'title': \"If You're Over 65 You May be Able to Get an Apple Watch Series 5 for $49\", 'author': 'Brendan Hesse', 'urlToImage': 'https://i.kinja-img.com/gawker-media/image/upload/c_fill,f_auto,fl_progressive,g_center,h_675,pg_1,q_80,w_1200/stcv8ho3q3gl72vs2gui.png'}, {'publishedAt': '2020-03-16T18:30:00Z', 'content': 'Worried about paying your credit card bill right now? Your card issuer may be able to help.\\r\\nApple Card is allowing customers to skip their March 2020 payments if the coronavirus is impacting their finances, according to an email sent to cardholders this week… [+2380 chars]', 'source': {'name': 'Lifehacker.com', 'id': None}, 'url': 'https://twocents.lifehacker.com/apple-card-will-let-you-skip-your-payment-this-month-1842359888', 'description': 'Worried about paying your credit card bill right now? Your card issuer may be able to help. Read more...', 'title': 'Apple Card Will Let You Skip Your Payment This Month', 'author': 'Lisa Rowan on Two Cents, shared by Lisa Rowan to Lifehacker', 'urlToImage': 'https://i.kinja-img.com/gawker-media/image/upload/c_fill,f_auto,fl_progressive,g_center,h_675,pg_1,q_80,w_1200/wezvswqsadzm41f8kbri.jpg'}, {'publishedAt': '2020-02-27T21:30:00Z', 'content': 'Yet another major firmware bug has been found that leaves billions of phones, routers, and other wireless devices from Apple, Google, Amazon open to spying. \\r\\n The bug, known as Kr00k, was discovered by the ESETt data security firm and disclosed in a recent p… [+1920 chars]', 'source': {'name': 'Lifehacker.com', 'id': None}, 'url': 'https://lifehacker.com/check-your-asus-and-huawei-routers-to-fix-this-wifi-vul-1841958252', 'description': 'Yet another major firmware bug has been found that leaves billions of phones, routers, and other wireless devices from Apple, Google, Amazon open to spying. Read more...', 'title': 'Check Your Asus and Huawei Routers to Fix This Wifi Vulnerability', 'author': 'Brendan Hesse', 'urlToImage': 'https://i.kinja-img.com/gawker-media/image/upload/c_fill,f_auto,fl_progressive,g_center,h_675,pg_1,q_80,w_1200/wzg5htwzreadr7fpjg0j.jpg'}, {'publishedAt': '2020-03-25T20:00:00Z', 'content': 'Apple Card has a new privacy policy that impacts current customers along with people who have not yet applied for the credit card. The changes are expected to make it easier for Apples banking partner, Goldman Sachs, to decide which potential customers are cr… [+2146 chars]', 'source': {'name': 'Lifehacker.com', 'id': None}, 'url': 'https://twocents.lifehacker.com/apple-cards-new-privacy-policy-may-offer-second-chance-1842487826', 'description': 'Apple Card has a new privacy policy that impacts current customers along with people who have not yet applied for the credit card. The changes are expected to make it easier for Apple’s banking partner, Goldman Sachs, to decide which potential customers are c…', 'title': \"Apple Card's New Privacy Policy May Offer Second Chance to Rejected Applicants\", 'author': 'Lisa Rowan on Two Cents, shared by Lisa Rowan to Lifehacker', 'urlToImage': 'https://i.kinja-img.com/gawker-media/image/upload/c_fill,f_auto,fl_progressive,g_center,h_675,pg_1,q_80,w_1200/nchpkfjmhlr7mapuocq1.jpg'}, {'publishedAt': '2020-03-10T18:30:00Z', 'content': 'An unlucky batch of third-generation iPad Airs has a defect that causes the display to go permanently blank, and theres no way to fix it without getting it repaired. \\r\\nApple acknowledged the defect and is issuing free repairs for anyone who experiences the is… [+1245 chars]', 'source': {'name': 'Lifehacker.com', 'id': None}, 'url': 'https://lifehacker.com/if-your-ipad-air-just-went-blank-apple-will-fix-it-for-1842239745', 'description': 'An unlucky batch of third-generation iPad Airs has a defect that causes the display to go permanently blank, and there’s no way to fix it without getting it repaired. Read more...', 'title': 'If Your iPad Air Just Went Blank, Apple Will Fix it for Free', 'author': 'Brendan Hesse', 'urlToImage': 'https://i.kinja-img.com/gawker-media/image/upload/c_fill,f_auto,fl_progressive,g_center,h_675,pg_1,q_80,w_1200/muxjfeakpivqpt9gfmob.png'}, {'publishedAt': '2020-03-23T18:30:00Z', 'content': 'Reading is a great way to mix up your social-distancing routine, plus it helps you slow down and fully absorb yourself in new ideas and worlds. Buying physical books might be on hold for a bit (although you can still order, and should, ideally from anindepend… [+2537 chars]', 'source': {'name': 'Lifehacker.com', 'id': None}, 'url': 'https://lifehacker.com/where-to-find-free-ebooks-during-the-coronavirus-shutdo-1842456736', 'description': 'Reading is a great way to mix up your social-distancing routine, plus it helps you slow down and fully absorb yourself in new ideas and worlds. Buying physical books might be on hold for a bit (although you can still order, and should, ideally from an indepen…', 'title': 'Where to Find Free eBooks During the Coronavirus Shutdown', 'author': 'Brendan Hesse', 'urlToImage': 'https://i.kinja-img.com/gawker-media/image/upload/c_fill,f_auto,fl_progressive,g_center,h_675,pg_1,q_80,w_1200/flx6fki8vyaxbuhjwgdk.jpg'}, {'publishedAt': '2020-03-17T20:30:00Z', 'content': 'A strange iOS bug is eating up mobile data and spiking monthly bills for iPhone users. You might not be affected, but its worth checking out (just in case).\\r\\nThe bug has been reported on all iPhone models that run iOS 13, and it affects nearly every major cel… [+1696 chars]', 'source': {'name': 'Lifehacker.com', 'id': None}, 'url': 'https://lifehacker.com/how-to-tell-if-an-iphone-bug-is-eating-up-your-data-pla-1842381977', 'description': 'A strange iOS bug is eating up mobile data and spiking monthly bills for iPhone users. You might not be affected, but it’s worth checking out (just in case). Read more...', 'title': 'How to Tell if an iPhone Bug Is Eating Up Your Data Plan', 'author': 'Brendan Hesse', 'urlToImage': 'https://i.kinja-img.com/gawker-media/image/upload/c_fill,f_auto,fl_progressive,g_center,h_675,pg_1,q_80,w_1200/azpystyouulqaqhkgzhu.jpg'}, {'publishedAt': '2020-03-19T13:30:00Z', 'content': 'At this point, were all well aware of the CDCs recommendation to wash our hands to combat the coronavirus. The cleanliness of our phones, however, is getting far less attention. In the video above, I go over the basic dos and donts of disinfecting a smartphon… [+1275 chars]', 'source': {'name': 'Lifehacker.com', 'id': None}, 'url': 'https://lifehacker.com/the-dos-and-donts-of-disinfecting-your-phone-1842400895', 'description': 'At this point, we’re all well aware of the CDC’s recommendation to wash our hands to combat the coronavirus. The cleanliness of our phones, however, is getting far less attention. In the video above, I go over the basic do’s and don’ts of disinfecting a smart…', 'title': \"The Do's and Don'ts of Disinfecting Your Phone\", 'author': 'Abu Zafar', 'urlToImage': 'https://i.kinja-img.com/gawker-media/image/upload/c_fill,f_auto,fl_progressive,g_center,h_675,pg_1,q_80,w_1200/tgkki03k89yoynji19h4.jpg'}, {'publishedAt': '2020-03-11T21:00:00Z', 'content': 'A recent Buzzfeed investigation discovered that several popular VPN and adblocking apps for Android and iOS secretly collected user data and sent it to Sensor Tower, a cross-platform data analytics service for app developers. The snooping apps include:\\r\\n<ul><… [+2155 chars]', 'source': {'name': 'Lifehacker.com', 'id': None}, 'url': 'https://lifehacker.com/uninstall-these-vpn-and-ad-blocking-apps-that-spied-on-1842274746', 'description': 'A recent Buzzfeed investigation discovered that several popular VPN and adblocking apps for Android and iOS secretly collected user data and sent it to Sensor Tower, a cross-platform data analytics service for app developers. The snooping apps include: Read m…', 'title': 'Uninstall These VPN and Ad-Blocking Apps That Spied on Your iPhone or Android', 'author': 'Brendan Hesse', 'urlToImage': 'https://i.kinja-img.com/gawker-media/image/upload/c_fill,f_auto,fl_progressive,g_center,h_675,pg_1,q_80,w_1200/u377v1u1qevrwhsa5r2x.jpg'}, {'publishedAt': '2020-03-12T16:00:00Z', 'content': 'Whenever I cant quite figure out what a dish needs, the answer is usually acid. It simultaneously intensifies and balances flavors like nothing elseeven when you cant immediately tell its there. To me, a squeeze of lemon or a splash of vinegar is just as tran… [+2115 chars]', 'source': {'name': 'Lifehacker.com', 'id': None}, 'url': 'https://skillet.lifehacker.com/citric-acid-is-basically-sour-msg-1842277471', 'description': 'Whenever I can’t quite figure out what a dish needs, the answer is usually acid. It simultaneously intensifies and balances flavors like nothing else—even when you can’t immediately tell it’s there. To me, a squeeze of lemon or a splash of vinegar is just as …', 'title': 'Citric Acid Is Basically Sour MSG', 'author': 'A.A. Newton on Skillet, shared by A.A. Newton to Lifehacker', 'urlToImage': 'https://i.kinja-img.com/gawker-media/image/upload/c_fill,f_auto,fl_progressive,g_center,h_675,pg_1,q_80,w_1200/egsagaftro5fjivbp4c6.jpg'}, {'publishedAt': '2020-03-15T13:00:00Z', 'content': 'Vice President Joe Biden will take on Senator Bernie Sanders tonight at 8pm ET in a televised debate from CNNs studio in Washington, D.C.\\r\\nThe debate was originally scheduled to happen in Arizona, but was moved late last week out of an abundance of caution an… [+1143 chars]', 'source': {'name': 'Lifehacker.com', 'id': None}, 'url': 'https://lifehacker.com/how-to-watch-tonights-democratic-debate-1842319974', 'description': 'Vice President Joe Biden will take on Senator Bernie Sanders tonight at 8pm ET in a televised debate from CNN’s studio in Washington, D.C. Read more...', 'title': \"How to Watch Tonight's Democratic Debate\", 'author': 'Emily Price', 'urlToImage': 'https://i.kinja-img.com/gawker-media/image/upload/c_fill,f_auto,fl_progressive,g_center,h_675,pg_1,q_80,w_1200/hyvfrkxliec7rpeisyim.png'}, {'publishedAt': '2020-03-04T18:45:00Z', 'content': 'Theres an incredible deal on refurbished 2017 and 2018 MacBook Pros on Amazons Woot site for today and today only. The pre-owned models are on sale at drastic price cuts$600 to $900 off the full retail prices, and hundreds of dollars cheaper than Apples refur… [+806 chars]', 'source': {'name': 'Lifehacker.com', 'id': None}, 'url': 'https://lifehacker.com/buy-a-refurbished-2017-or-2018-macbook-pro-for-610-tod-1842090964', 'description': 'There’s an incredible deal on refurbished 2017 and 2018 MacBook Pros on Amazon’s Woot site for today and today only. The pre-owned models are on sale at drastic price cuts—$600 to $900 off the full retail prices, and hundreds of dollars cheaper than Apple’s r…', 'title': 'Buy a Refurbished 2017 or 2018 MacBook Pro for $610 Today', 'author': 'Brendan Hesse', 'urlToImage': 'https://i.kinja-img.com/gawker-media/image/upload/c_fill,f_auto,fl_progressive,g_center,h_675,pg_1,q_80,w_1200/ohwry7fc3zhbynqpayje.jpg'}, {'publishedAt': '2020-03-22T23:34:00Z', 'content': 'If you have questions about Coronavirus, now you have another source available to get answers: Siri.\\r\\nApple updated Siri this weekend to include some screening questions on coronavirus. While its absolutely not a replacement for talking to a doctor, asking th… [+888 chars]', 'source': {'name': 'Lifehacker.com', 'id': None}, 'url': 'https://lifehacker.com/siri-can-now-field-questions-about-coronavirus-1842447562', 'description': 'If you have questions about Coronavirus, now you have another source available to get answers: Siri. Read more...', 'title': 'Siri Can Now Field Questions About Coronavirus', 'author': 'Emily Price', 'urlToImage': 'https://i.kinja-img.com/gawker-media/image/upload/c_fill,f_auto,fl_progressive,g_center,h_675,pg_1,q_80,w_1200/qzybq3k1xtuzf54odokh.jpg'}, {'publishedAt': '2020-03-17T19:15:00Z', 'content': 'The consumer tech industry thrives on big conventions and live events, but many of these have been delayed or canceled in 2020 due to COVID-19. Apples WWDC event is one of the affected events, but instead of being scrapped, the June conference is being rework… [+925 chars]', 'source': {'name': 'Lifehacker.com', 'id': None}, 'url': 'https://lifehacker.com/grab-these-wwdc-inspired-wallpapers-for-your-mac-iphon-1842380178', 'description': 'The consumer tech industry thrives on big conventions and live events, but many of these have been delayed or canceled in 2020 due to COVID-19. Apple’s WWDC event is one of the affected events, but instead of being scrapped, the June conference is being rewor…', 'title': 'Grab These WWDC-Inspired Wallpapers for Your Mac, iPhone, and iPad', 'author': 'Brendan Hesse', 'urlToImage': 'https://i.kinja-img.com/gawker-media/image/upload/c_fill,f_auto,fl_progressive,g_center,h_675,pg_1,q_80,w_1200/rm654eslh93qczzwqc6b.jpg'}, {'publishedAt': '2020-03-18T21:04:00Z', 'content': 'After todays announcements from Apple, weve been blessed with a new iPad Pro, and a keyboard that also comes with a trackpad.\\r\\nWith that, heres some of the best accessories you can buy for your iPad right now, from the regular model, right up to the 12.9 Pro … [+5281 chars]', 'source': {'name': 'Theinventory.com', 'id': None}, 'url': 'https://news.theinventory.com/10-must-have-accessories-for-your-new-ipad-1842398205', 'description': 'Here’s some of the best accessories you can buy for your iPad right now, from the regular model, right up to the 12.9 Pro released this year.', 'title': '10 Must-Have Accessories for Your New iPad', 'author': 'Daryl Baxter on News, shared by Gabe Carey to Lifehacker', 'urlToImage': 'https://i.kinja-img.com/gawker-media/image/upload/c_fill,f_auto,fl_progressive,g_center,h_675,pg_1,q_80,w_1200/cf9vr5d7latp2ijiwgzn.jpg'}, {'publishedAt': '2020-03-18T21:04:00Z', 'content': 'After todays announcements from Apple, weve been blessed with a new iPad Pro, and a keyboard that also comes with a trackpad.\\r\\nWith that, heres some of the best accessories you can buy for your iPad right now, from the regular model, right up to the 12.9 Pro … [+5281 chars]', 'source': {'name': 'Theinventory.com', 'id': None}, 'url': 'https://theinventory.com/10-must-have-accessories-for-your-new-ipad-1842398205', 'description': 'Here’s some of the best accessories you can buy for your iPad right now, from the regular model, right up to the 12.9 Pro released this year.', 'title': '10 Must-Have Accessories for Your New iPad', 'author': 'Daryl Baxter on The Inventory, shared by Gabe Carey to Lifehacker', 'urlToImage': 'https://i.kinja-img.com/gawker-media/image/upload/c_fill,f_auto,fl_progressive,g_center,h_675,pg_1,q_80,w_1200/cf9vr5d7latp2ijiwgzn.jpg'}, {'publishedAt': '2020-02-27T14:00:00Z', 'content': 'Im terrible at taking notes, only because I dont have one of those fancy Samsung smartphones that lets you draw your thoughts right on the lock screen. Instead, I have to yell at a digital assistantwhich sometimes gets it rightor I have to authenticate into m… [+1988 chars]', 'source': {'name': 'Lifehacker.com', 'id': None}, 'url': 'https://lifehacker.com/apples-instant-notes-is-a-must-have-on-your-iphone-or-i-1841934940', 'description': 'I’m terrible at taking notes, only because I don’t have one of those fancy Samsung smartphones that lets you draw your thoughts right on the lock screen. Instead, I have to yell at a digital assistant—which sometimes gets it right—or I have to authenticate in…', 'title': \"Apple's 'Instant Notes' Is a Must-Have on Your iPhone or iPad\", 'author': 'David Murphy', 'urlToImage': 'https://i.kinja-img.com/gawker-media/image/upload/c_fill,f_auto,fl_progressive,g_center,h_675,pg_1,q_80,w_1200/oyczchoywsgtsjhab9sl.png'}]}\n"
     ]
    }
   ],
   "source": [
    "print(response.json())"
   ]
  },
  {
   "cell_type": "code",
   "execution_count": 22,
   "metadata": {},
   "outputs": [
    {
     "data": {
      "text/plain": [
       "['How to Prevent Spammy Notifications from iPhone and iPad Apps',\n",
       " 'What to Do if Your iPhone Breaks While Apple Stores Are Closed',\n",
       " 'The Best Mac Screensaver for Apple Devotees',\n",
       " \"If You're Over 65 You May be Able to Get an Apple Watch Series 5 for $49\",\n",
       " 'Apple Card Will Let You Skip Your Payment This Month',\n",
       " 'Check Your Asus and Huawei Routers to Fix This Wifi Vulnerability',\n",
       " \"Apple Card's New Privacy Policy May Offer Second Chance to Rejected Applicants\",\n",
       " 'If Your iPad Air Just Went Blank, Apple Will Fix it for Free',\n",
       " 'Where to Find Free eBooks During the Coronavirus Shutdown',\n",
       " 'How to Tell if an iPhone Bug Is Eating Up Your Data Plan',\n",
       " \"The Do's and Don'ts of Disinfecting Your Phone\",\n",
       " 'Uninstall These VPN and Ad-Blocking Apps That Spied on Your iPhone or Android',\n",
       " 'Citric Acid Is Basically Sour MSG',\n",
       " \"How to Watch Tonight's Democratic Debate\",\n",
       " 'Buy a Refurbished 2017 or 2018 MacBook Pro for $610 Today',\n",
       " 'Siri Can Now Field Questions About Coronavirus',\n",
       " 'Grab These WWDC-Inspired Wallpapers for Your Mac, iPhone, and iPad',\n",
       " '10 Must-Have Accessories for Your New iPad',\n",
       " '10 Must-Have Accessories for Your New iPad',\n",
       " \"Apple's 'Instant Notes' Is a Must-Have on Your iPhone or iPad\"]"
      ]
     },
     "execution_count": 22,
     "metadata": {},
     "output_type": "execute_result"
    }
   ],
   "source": [
    "data_dict=response.json()\n",
    "aapl_titles=[]\n",
    "aapl_titles_dates=[]\n",
    "\n",
    "for i in range(0,len(data_dict['articles'][:])):\n",
    "    aapl_titles.append(data_dict['articles'][i]['title'])\n",
    "    aapl_titles_dates.append(data_dict['articles'][i]['publishedAt'])\n",
    "    \n",
    "aapl_titles"
   ]
  },
  {
   "cell_type": "code",
   "execution_count": 23,
   "metadata": {},
   "outputs": [
    {
     "data": {
      "text/plain": [
       "['2020-03-10T14:00:00Z',\n",
       " '2020-03-17T17:45:00Z',\n",
       " '2020-02-26T16:00:00Z',\n",
       " '2020-02-27T19:45:00Z',\n",
       " '2020-03-16T18:30:00Z',\n",
       " '2020-02-27T21:30:00Z',\n",
       " '2020-03-25T20:00:00Z',\n",
       " '2020-03-10T18:30:00Z',\n",
       " '2020-03-23T18:30:00Z',\n",
       " '2020-03-17T20:30:00Z',\n",
       " '2020-03-19T13:30:00Z',\n",
       " '2020-03-11T21:00:00Z',\n",
       " '2020-03-12T16:00:00Z',\n",
       " '2020-03-15T13:00:00Z',\n",
       " '2020-03-04T18:45:00Z',\n",
       " '2020-03-22T23:34:00Z',\n",
       " '2020-03-17T19:15:00Z',\n",
       " '2020-03-18T21:04:00Z',\n",
       " '2020-03-18T21:04:00Z',\n",
       " '2020-02-27T14:00:00Z']"
      ]
     },
     "execution_count": 23,
     "metadata": {},
     "output_type": "execute_result"
    }
   ],
   "source": [
    "aapl_titles_dates"
   ]
  },
  {
   "cell_type": "code",
   "execution_count": 24,
   "metadata": {},
   "outputs": [
    {
     "data": {
      "text/plain": [
       "[datetime.datetime(2020, 3, 10, 0, 0),\n",
       " datetime.datetime(2020, 3, 17, 0, 0),\n",
       " datetime.datetime(2020, 2, 26, 0, 0),\n",
       " datetime.datetime(2020, 2, 27, 0, 0),\n",
       " datetime.datetime(2020, 3, 16, 0, 0),\n",
       " datetime.datetime(2020, 2, 27, 0, 0),\n",
       " datetime.datetime(2020, 3, 25, 0, 0),\n",
       " datetime.datetime(2020, 3, 10, 0, 0),\n",
       " datetime.datetime(2020, 3, 23, 0, 0),\n",
       " datetime.datetime(2020, 3, 17, 0, 0),\n",
       " datetime.datetime(2020, 3, 19, 0, 0),\n",
       " datetime.datetime(2020, 3, 11, 0, 0),\n",
       " datetime.datetime(2020, 3, 12, 0, 0),\n",
       " datetime.datetime(2020, 3, 15, 0, 0),\n",
       " datetime.datetime(2020, 3, 4, 0, 0),\n",
       " datetime.datetime(2020, 3, 22, 0, 0),\n",
       " datetime.datetime(2020, 3, 17, 0, 0),\n",
       " datetime.datetime(2020, 3, 18, 0, 0),\n",
       " datetime.datetime(2020, 3, 18, 0, 0),\n",
       " datetime.datetime(2020, 2, 27, 0, 0)]"
      ]
     },
     "execution_count": 24,
     "metadata": {},
     "output_type": "execute_result"
    }
   ],
   "source": [
    "aapl_dates=[]\n",
    "for i in range(0,len(data_dict['articles'][:])):\n",
    "    aapl_dates.append(aapl_titles_dates[i][0:10])\n",
    "    aapl_dates[i]= datetime.datetime.strptime(aapl_dates[i], '%Y-%m-%d')\n",
    "\n",
    "aapl_dates"
   ]
  },
  {
   "cell_type": "code",
   "execution_count": 25,
   "metadata": {},
   "outputs": [
    {
     "data": {
      "text/html": [
       "<div>\n",
       "<style scoped>\n",
       "    .dataframe tbody tr th:only-of-type {\n",
       "        vertical-align: middle;\n",
       "    }\n",
       "\n",
       "    .dataframe tbody tr th {\n",
       "        vertical-align: top;\n",
       "    }\n",
       "\n",
       "    .dataframe thead th {\n",
       "        text-align: right;\n",
       "    }\n",
       "</style>\n",
       "<table border=\"1\" class=\"dataframe\">\n",
       "  <thead>\n",
       "    <tr style=\"text-align: right;\">\n",
       "      <th></th>\n",
       "      <th>Date</th>\n",
       "      <th>News</th>\n",
       "    </tr>\n",
       "  </thead>\n",
       "  <tbody>\n",
       "    <tr>\n",
       "      <th>0</th>\n",
       "      <td>2020-03-10</td>\n",
       "      <td>How to Prevent Spammy Notifications from iPhon...</td>\n",
       "    </tr>\n",
       "    <tr>\n",
       "      <th>1</th>\n",
       "      <td>2020-03-17</td>\n",
       "      <td>What to Do if Your iPhone Breaks While Apple S...</td>\n",
       "    </tr>\n",
       "    <tr>\n",
       "      <th>2</th>\n",
       "      <td>2020-02-26</td>\n",
       "      <td>The Best Mac Screensaver for Apple Devotees</td>\n",
       "    </tr>\n",
       "    <tr>\n",
       "      <th>3</th>\n",
       "      <td>2020-02-27</td>\n",
       "      <td>If You're Over 65 You May be Able to Get an Ap...</td>\n",
       "    </tr>\n",
       "    <tr>\n",
       "      <th>4</th>\n",
       "      <td>2020-03-16</td>\n",
       "      <td>Apple Card Will Let You Skip Your Payment This...</td>\n",
       "    </tr>\n",
       "  </tbody>\n",
       "</table>\n",
       "</div>"
      ],
      "text/plain": [
       "        Date                                               News\n",
       "0 2020-03-10  How to Prevent Spammy Notifications from iPhon...\n",
       "1 2020-03-17  What to Do if Your iPhone Breaks While Apple S...\n",
       "2 2020-02-26        The Best Mac Screensaver for Apple Devotees\n",
       "3 2020-02-27  If You're Over 65 You May be Able to Get an Ap...\n",
       "4 2020-03-16  Apple Card Will Let You Skip Your Payment This..."
      ]
     },
     "execution_count": 25,
     "metadata": {},
     "output_type": "execute_result"
    }
   ],
   "source": [
    "data_2={'News': aapl_titles, 'Date': aapl_dates}\n",
    "data_df_2=pd.DataFrame(data=data_2)\n",
    "data_df_2.head()"
   ]
  },
  {
   "cell_type": "code",
   "execution_count": 26,
   "metadata": {},
   "outputs": [
    {
     "data": {
      "text/html": [
       "<div>\n",
       "<style scoped>\n",
       "    .dataframe tbody tr th:only-of-type {\n",
       "        vertical-align: middle;\n",
       "    }\n",
       "\n",
       "    .dataframe tbody tr th {\n",
       "        vertical-align: top;\n",
       "    }\n",
       "\n",
       "    .dataframe thead th {\n",
       "        text-align: right;\n",
       "    }\n",
       "</style>\n",
       "<table border=\"1\" class=\"dataframe\">\n",
       "  <thead>\n",
       "    <tr style=\"text-align: right;\">\n",
       "      <th></th>\n",
       "      <th>Date</th>\n",
       "      <th>News</th>\n",
       "    </tr>\n",
       "  </thead>\n",
       "  <tbody>\n",
       "    <tr>\n",
       "      <th>2</th>\n",
       "      <td>2020-02-26</td>\n",
       "      <td>The Best Mac Screensaver for Apple Devotees</td>\n",
       "    </tr>\n",
       "    <tr>\n",
       "      <th>19</th>\n",
       "      <td>2020-02-27</td>\n",
       "      <td>Apple's 'Instant Notes' Is a Must-Have on Your...</td>\n",
       "    </tr>\n",
       "    <tr>\n",
       "      <th>3</th>\n",
       "      <td>2020-02-27</td>\n",
       "      <td>If You're Over 65 You May be Able to Get an Ap...</td>\n",
       "    </tr>\n",
       "    <tr>\n",
       "      <th>5</th>\n",
       "      <td>2020-02-27</td>\n",
       "      <td>Check Your Asus and Huawei Routers to Fix This...</td>\n",
       "    </tr>\n",
       "    <tr>\n",
       "      <th>14</th>\n",
       "      <td>2020-03-04</td>\n",
       "      <td>Buy a Refurbished 2017 or 2018 MacBook Pro for...</td>\n",
       "    </tr>\n",
       "  </tbody>\n",
       "</table>\n",
       "</div>"
      ],
      "text/plain": [
       "         Date                                               News\n",
       "2  2020-02-26        The Best Mac Screensaver for Apple Devotees\n",
       "19 2020-02-27  Apple's 'Instant Notes' Is a Must-Have on Your...\n",
       "3  2020-02-27  If You're Over 65 You May be Able to Get an Ap...\n",
       "5  2020-02-27  Check Your Asus and Huawei Routers to Fix This...\n",
       "14 2020-03-04  Buy a Refurbished 2017 or 2018 MacBook Pro for..."
      ]
     },
     "execution_count": 26,
     "metadata": {},
     "output_type": "execute_result"
    }
   ],
   "source": [
    "# Sort dates in ascending order\n",
    "data_df_2=data_df_2.sort_values(by='Date')\n",
    "data_df_2.head()"
   ]
  },
  {
   "cell_type": "markdown",
   "metadata": {},
   "source": [
    "##### All steps from here onwards will be the same as previous Section 1.1)"
   ]
  },
  {
   "cell_type": "markdown",
   "metadata": {},
   "source": [
    "### c.)"
   ]
  },
  {
   "cell_type": "code",
   "execution_count": 27,
   "metadata": {},
   "outputs": [
    {
     "name": "stdout",
     "output_type": "stream",
     "text": [
      "0\n"
     ]
    },
    {
     "name": "stderr",
     "output_type": "stream",
     "text": [
      "C:\\Users\\UX330\\Anaconda3\\envs\\env_zipline\\lib\\site-packages\\ipykernel_launcher.py:6: SettingWithCopyWarning: \n",
      "A value is trying to be set on a copy of a slice from a DataFrame\n",
      "\n",
      "See the caveats in the documentation: http://pandas.pydata.org/pandas-docs/stable/indexing.html#indexing-view-versus-copy\n",
      "  \n"
     ]
    },
    {
     "name": "stdout",
     "output_type": "stream",
     "text": [
      "0\n",
      "1\n",
      "1\n",
      "-1\n",
      "-1\n",
      "1\n",
      "1\n",
      "0\n",
      "0\n",
      "0\n",
      "0\n",
      "0\n",
      "0\n",
      "1\n",
      "0\n",
      "0\n",
      "0\n",
      "0\n",
      "0\n"
     ]
    }
   ],
   "source": [
    "data_df_2['Expected']=0\n",
    "indicator=data_df_2['Expected']\n",
    "n=len(data_df_2)\n",
    "\n",
    "for i in range(0,n):\n",
    "    indicator[i]=input()\n",
    "\n",
    "data_df_2['Expected']=indicator"
   ]
  },
  {
   "cell_type": "markdown",
   "metadata": {},
   "source": [
    "### d.)"
   ]
  },
  {
   "cell_type": "code",
   "execution_count": 28,
   "metadata": {},
   "outputs": [],
   "source": [
    "data_df_date_2=data_df_2['Date']\n",
    "aapl_date=aapl_day_2019['date']\n",
    "\n",
    "all_observed=[]\n",
    "all_returns=[]\n",
    "\n",
    "for i in range(0,len(data_df_2)): \n",
    "    row_index_1=aapl_date.loc[aapl_date == data_df_date_2[i]].index\n",
    "    row_index_1=row_index_1[0]\n",
    "    row_index_2=row_index_1+1\n",
    "    value_1, value_2= aapl_day_2019.iloc[row_index_1]['4. close'], aapl_day_2019.iloc[row_index_2]['4. close']\n",
    "    returns=((value_2-value_1)/value_2)\n",
    "    \n",
    "    if returns<=float(aapl_mean_returns):\n",
    "        all_observed.append(-1)\n",
    "    else:\n",
    "        all_observed.append(1)\n",
    "        \n",
    "    all_returns.append(returns)\n",
    "    "
   ]
  },
  {
   "cell_type": "code",
   "execution_count": 29,
   "metadata": {},
   "outputs": [
    {
     "data": {
      "text/html": [
       "<div>\n",
       "<style scoped>\n",
       "    .dataframe tbody tr th:only-of-type {\n",
       "        vertical-align: middle;\n",
       "    }\n",
       "\n",
       "    .dataframe tbody tr th {\n",
       "        vertical-align: top;\n",
       "    }\n",
       "\n",
       "    .dataframe thead th {\n",
       "        text-align: right;\n",
       "    }\n",
       "</style>\n",
       "<table border=\"1\" class=\"dataframe\">\n",
       "  <thead>\n",
       "    <tr style=\"text-align: right;\">\n",
       "      <th></th>\n",
       "      <th>Date</th>\n",
       "      <th>News</th>\n",
       "      <th>Expected</th>\n",
       "      <th>Observed</th>\n",
       "      <th>Returns</th>\n",
       "    </tr>\n",
       "  </thead>\n",
       "  <tbody>\n",
       "    <tr>\n",
       "      <th>2</th>\n",
       "      <td>2020-02-26</td>\n",
       "      <td>The Best Mac Screensaver for Apple Devotees</td>\n",
       "      <td>1</td>\n",
       "      <td>-1</td>\n",
       "      <td>-0.035980</td>\n",
       "    </tr>\n",
       "    <tr>\n",
       "      <th>19</th>\n",
       "      <td>2020-02-27</td>\n",
       "      <td>Apple's 'Instant Notes' Is a Must-Have on Your...</td>\n",
       "      <td>0</td>\n",
       "      <td>-1</td>\n",
       "      <td>-0.025094</td>\n",
       "    </tr>\n",
       "    <tr>\n",
       "      <th>3</th>\n",
       "      <td>2020-02-27</td>\n",
       "      <td>If You're Over 65 You May be Able to Get an Ap...</td>\n",
       "      <td>1</td>\n",
       "      <td>-1</td>\n",
       "      <td>-0.069940</td>\n",
       "    </tr>\n",
       "    <tr>\n",
       "      <th>5</th>\n",
       "      <td>2020-02-27</td>\n",
       "      <td>Check Your Asus and Huawei Routers to Fix This...</td>\n",
       "      <td>-1</td>\n",
       "      <td>1</td>\n",
       "      <td>-0.000585</td>\n",
       "    </tr>\n",
       "    <tr>\n",
       "      <th>14</th>\n",
       "      <td>2020-03-04</td>\n",
       "      <td>Buy a Refurbished 2017 or 2018 MacBook Pro for...</td>\n",
       "      <td>1</td>\n",
       "      <td>1</td>\n",
       "      <td>0.042118</td>\n",
       "    </tr>\n",
       "    <tr>\n",
       "      <th>7</th>\n",
       "      <td>2020-03-10</td>\n",
       "      <td>If Your iPad Air Just Went Blank, Apple Will F...</td>\n",
       "      <td>1</td>\n",
       "      <td>1</td>\n",
       "      <td>-0.000585</td>\n",
       "    </tr>\n",
       "    <tr>\n",
       "      <th>0</th>\n",
       "      <td>2020-03-10</td>\n",
       "      <td>How to Prevent Spammy Notifications from iPhon...</td>\n",
       "      <td>0</td>\n",
       "      <td>1</td>\n",
       "      <td>0.050066</td>\n",
       "    </tr>\n",
       "    <tr>\n",
       "      <th>11</th>\n",
       "      <td>2020-03-11</td>\n",
       "      <td>Uninstall These VPN and Ad-Blocking Apps That ...</td>\n",
       "      <td>0</td>\n",
       "      <td>-1</td>\n",
       "      <td>-0.035980</td>\n",
       "    </tr>\n",
       "    <tr>\n",
       "      <th>12</th>\n",
       "      <td>2020-03-12</td>\n",
       "      <td>Citric Acid Is Basically Sour MSG</td>\n",
       "      <td>0</td>\n",
       "      <td>1</td>\n",
       "      <td>0.091178</td>\n",
       "    </tr>\n",
       "    <tr>\n",
       "      <th>13</th>\n",
       "      <td>2020-03-15</td>\n",
       "      <td>How to Watch Tonight's Democratic Debate</td>\n",
       "      <td>0</td>\n",
       "      <td>-1</td>\n",
       "      <td>-0.025094</td>\n",
       "    </tr>\n",
       "    <tr>\n",
       "      <th>4</th>\n",
       "      <td>2020-03-16</td>\n",
       "      <td>Apple Card Will Let You Skip Your Payment This...</td>\n",
       "      <td>-1</td>\n",
       "      <td>-1</td>\n",
       "      <td>-0.067789</td>\n",
       "    </tr>\n",
       "    <tr>\n",
       "      <th>1</th>\n",
       "      <td>2020-03-17</td>\n",
       "      <td>What to Do if Your iPhone Breaks While Apple S...</td>\n",
       "      <td>0</td>\n",
       "      <td>-1</td>\n",
       "      <td>-0.109576</td>\n",
       "    </tr>\n",
       "    <tr>\n",
       "      <th>16</th>\n",
       "      <td>2020-03-17</td>\n",
       "      <td>Grab These WWDC-Inspired Wallpapers for Your M...</td>\n",
       "      <td>0</td>\n",
       "      <td>1</td>\n",
       "      <td>0.106990</td>\n",
       "    </tr>\n",
       "    <tr>\n",
       "      <th>9</th>\n",
       "      <td>2020-03-17</td>\n",
       "      <td>How to Tell if an iPhone Bug Is Eating Up Your...</td>\n",
       "      <td>0</td>\n",
       "      <td>-1</td>\n",
       "      <td>-0.049213</td>\n",
       "    </tr>\n",
       "    <tr>\n",
       "      <th>18</th>\n",
       "      <td>2020-03-18</td>\n",
       "      <td>10 Must-Have Accessories for Your New iPad</td>\n",
       "      <td>0</td>\n",
       "      <td>-1</td>\n",
       "      <td>-0.033525</td>\n",
       "    </tr>\n",
       "    <tr>\n",
       "      <th>17</th>\n",
       "      <td>2020-03-18</td>\n",
       "      <td>10 Must-Have Accessories for Your New iPad</td>\n",
       "      <td>0</td>\n",
       "      <td>-1</td>\n",
       "      <td>-0.007235</td>\n",
       "    </tr>\n",
       "    <tr>\n",
       "      <th>10</th>\n",
       "      <td>2020-03-19</td>\n",
       "      <td>The Do's and Don'ts of Disinfecting Your Phone</td>\n",
       "      <td>0</td>\n",
       "      <td>-1</td>\n",
       "      <td>-0.025094</td>\n",
       "    </tr>\n",
       "    <tr>\n",
       "      <th>15</th>\n",
       "      <td>2020-03-22</td>\n",
       "      <td>Siri Can Now Field Questions About Coronavirus</td>\n",
       "      <td>0</td>\n",
       "      <td>-1</td>\n",
       "      <td>-0.007721</td>\n",
       "    </tr>\n",
       "    <tr>\n",
       "      <th>8</th>\n",
       "      <td>2020-03-23</td>\n",
       "      <td>Where to Find Free eBooks During the Coronavir...</td>\n",
       "      <td>0</td>\n",
       "      <td>-1</td>\n",
       "      <td>-0.007721</td>\n",
       "    </tr>\n",
       "    <tr>\n",
       "      <th>6</th>\n",
       "      <td>2020-03-25</td>\n",
       "      <td>Apple Card's New Privacy Policy May Offer Seco...</td>\n",
       "      <td>1</td>\n",
       "      <td>1</td>\n",
       "      <td>-0.000585</td>\n",
       "    </tr>\n",
       "  </tbody>\n",
       "</table>\n",
       "</div>"
      ],
      "text/plain": [
       "         Date                                               News  Expected  \\\n",
       "2  2020-02-26        The Best Mac Screensaver for Apple Devotees         1   \n",
       "19 2020-02-27  Apple's 'Instant Notes' Is a Must-Have on Your...         0   \n",
       "3  2020-02-27  If You're Over 65 You May be Able to Get an Ap...         1   \n",
       "5  2020-02-27  Check Your Asus and Huawei Routers to Fix This...        -1   \n",
       "14 2020-03-04  Buy a Refurbished 2017 or 2018 MacBook Pro for...         1   \n",
       "7  2020-03-10  If Your iPad Air Just Went Blank, Apple Will F...         1   \n",
       "0  2020-03-10  How to Prevent Spammy Notifications from iPhon...         0   \n",
       "11 2020-03-11  Uninstall These VPN and Ad-Blocking Apps That ...         0   \n",
       "12 2020-03-12                  Citric Acid Is Basically Sour MSG         0   \n",
       "13 2020-03-15           How to Watch Tonight's Democratic Debate         0   \n",
       "4  2020-03-16  Apple Card Will Let You Skip Your Payment This...        -1   \n",
       "1  2020-03-17  What to Do if Your iPhone Breaks While Apple S...         0   \n",
       "16 2020-03-17  Grab These WWDC-Inspired Wallpapers for Your M...         0   \n",
       "9  2020-03-17  How to Tell if an iPhone Bug Is Eating Up Your...         0   \n",
       "18 2020-03-18         10 Must-Have Accessories for Your New iPad         0   \n",
       "17 2020-03-18         10 Must-Have Accessories for Your New iPad         0   \n",
       "10 2020-03-19     The Do's and Don'ts of Disinfecting Your Phone         0   \n",
       "15 2020-03-22     Siri Can Now Field Questions About Coronavirus         0   \n",
       "8  2020-03-23  Where to Find Free eBooks During the Coronavir...         0   \n",
       "6  2020-03-25  Apple Card's New Privacy Policy May Offer Seco...         1   \n",
       "\n",
       "    Observed   Returns  \n",
       "2         -1 -0.035980  \n",
       "19        -1 -0.025094  \n",
       "3         -1 -0.069940  \n",
       "5          1 -0.000585  \n",
       "14         1  0.042118  \n",
       "7          1 -0.000585  \n",
       "0          1  0.050066  \n",
       "11        -1 -0.035980  \n",
       "12         1  0.091178  \n",
       "13        -1 -0.025094  \n",
       "4         -1 -0.067789  \n",
       "1         -1 -0.109576  \n",
       "16         1  0.106990  \n",
       "9         -1 -0.049213  \n",
       "18        -1 -0.033525  \n",
       "17        -1 -0.007235  \n",
       "10        -1 -0.025094  \n",
       "15        -1 -0.007721  \n",
       "8         -1 -0.007721  \n",
       "6          1 -0.000585  "
      ]
     },
     "execution_count": 29,
     "metadata": {},
     "output_type": "execute_result"
    }
   ],
   "source": [
    "data_df_2['Observed']=all_observed\n",
    "data_df_2['Returns']=all_returns\n",
    "data_df_2"
   ]
  },
  {
   "cell_type": "markdown",
   "metadata": {},
   "source": [
    "### e.)"
   ]
  },
  {
   "cell_type": "code",
   "execution_count": 30,
   "metadata": {},
   "outputs": [
    {
     "data": {
      "text/html": [
       "<div>\n",
       "<style scoped>\n",
       "    .dataframe tbody tr th:only-of-type {\n",
       "        vertical-align: middle;\n",
       "    }\n",
       "\n",
       "    .dataframe tbody tr th {\n",
       "        vertical-align: top;\n",
       "    }\n",
       "\n",
       "    .dataframe thead th {\n",
       "        text-align: right;\n",
       "    }\n",
       "</style>\n",
       "<table border=\"1\" class=\"dataframe\">\n",
       "  <thead>\n",
       "    <tr style=\"text-align: right;\">\n",
       "      <th></th>\n",
       "      <th>Date</th>\n",
       "      <th>News</th>\n",
       "      <th>Expected</th>\n",
       "      <th>Observed</th>\n",
       "      <th>Returns</th>\n",
       "    </tr>\n",
       "  </thead>\n",
       "  <tbody>\n",
       "    <tr>\n",
       "      <th>2</th>\n",
       "      <td>2020-02-26</td>\n",
       "      <td>The Best Mac Screensaver for Apple Devotees</td>\n",
       "      <td>1</td>\n",
       "      <td>-1</td>\n",
       "      <td>-0.035980</td>\n",
       "    </tr>\n",
       "    <tr>\n",
       "      <th>3</th>\n",
       "      <td>2020-02-27</td>\n",
       "      <td>If You're Over 65 You May be Able to Get an Ap...</td>\n",
       "      <td>1</td>\n",
       "      <td>-1</td>\n",
       "      <td>-0.069940</td>\n",
       "    </tr>\n",
       "    <tr>\n",
       "      <th>5</th>\n",
       "      <td>2020-02-27</td>\n",
       "      <td>Check Your Asus and Huawei Routers to Fix This...</td>\n",
       "      <td>-1</td>\n",
       "      <td>1</td>\n",
       "      <td>-0.000585</td>\n",
       "    </tr>\n",
       "    <tr>\n",
       "      <th>14</th>\n",
       "      <td>2020-03-04</td>\n",
       "      <td>Buy a Refurbished 2017 or 2018 MacBook Pro for...</td>\n",
       "      <td>1</td>\n",
       "      <td>1</td>\n",
       "      <td>0.042118</td>\n",
       "    </tr>\n",
       "    <tr>\n",
       "      <th>7</th>\n",
       "      <td>2020-03-10</td>\n",
       "      <td>If Your iPad Air Just Went Blank, Apple Will F...</td>\n",
       "      <td>1</td>\n",
       "      <td>1</td>\n",
       "      <td>-0.000585</td>\n",
       "    </tr>\n",
       "    <tr>\n",
       "      <th>4</th>\n",
       "      <td>2020-03-16</td>\n",
       "      <td>Apple Card Will Let You Skip Your Payment This...</td>\n",
       "      <td>-1</td>\n",
       "      <td>-1</td>\n",
       "      <td>-0.067789</td>\n",
       "    </tr>\n",
       "    <tr>\n",
       "      <th>6</th>\n",
       "      <td>2020-03-25</td>\n",
       "      <td>Apple Card's New Privacy Policy May Offer Seco...</td>\n",
       "      <td>1</td>\n",
       "      <td>1</td>\n",
       "      <td>-0.000585</td>\n",
       "    </tr>\n",
       "  </tbody>\n",
       "</table>\n",
       "</div>"
      ],
      "text/plain": [
       "         Date                                               News  Expected  \\\n",
       "2  2020-02-26        The Best Mac Screensaver for Apple Devotees         1   \n",
       "3  2020-02-27  If You're Over 65 You May be Able to Get an Ap...         1   \n",
       "5  2020-02-27  Check Your Asus and Huawei Routers to Fix This...        -1   \n",
       "14 2020-03-04  Buy a Refurbished 2017 or 2018 MacBook Pro for...         1   \n",
       "7  2020-03-10  If Your iPad Air Just Went Blank, Apple Will F...         1   \n",
       "4  2020-03-16  Apple Card Will Let You Skip Your Payment This...        -1   \n",
       "6  2020-03-25  Apple Card's New Privacy Policy May Offer Seco...         1   \n",
       "\n",
       "    Observed   Returns  \n",
       "2         -1 -0.035980  \n",
       "3         -1 -0.069940  \n",
       "5          1 -0.000585  \n",
       "14         1  0.042118  \n",
       "7          1 -0.000585  \n",
       "4         -1 -0.067789  \n",
       "6          1 -0.000585  "
      ]
     },
     "execution_count": 30,
     "metadata": {},
     "output_type": "execute_result"
    }
   ],
   "source": [
    "data_df_2=data_df_2[data_df_2['Expected']!=0]\n",
    "data_df_2"
   ]
  },
  {
   "cell_type": "markdown",
   "metadata": {},
   "source": [
    "## Summary\n",
    "It seems that the Apple News was only abe to get predict about 71% of the stock price movements correctly (5 out of 7),\n",
    "but note that:\n",
    "\n",
    "1) this is still a very small dataset as example (only able to extract first few latest news from website),\n",
    "   currently using free version of API therefore provided data is limited to only previous few weeks.\n",
    "\n",
    "2) coronavirus virus certainly adds to the market uncertainty and stockholder panicking \n",
    "\n",
    "In short, more history data would be required to determine potential of online news rating system and if possible, bein tested on data before year 2020. (before the age of coronavirus to prevent large influence of current global issue on investor's decision)"
   ]
  },
  {
   "cell_type": "markdown",
   "metadata": {},
   "source": [
    "# To Be Continued......(Section 2, Word Search Count Rating System)"
   ]
  }
 ],
 "metadata": {
  "kernelspec": {
   "display_name": "DylanZipline1.3.0",
   "language": "python",
   "name": "dylanzipline1.3.0"
  },
  "language_info": {
   "codemirror_mode": {
    "name": "ipython",
    "version": 3
   },
   "file_extension": ".py",
   "mimetype": "text/x-python",
   "name": "python",
   "nbconvert_exporter": "python",
   "pygments_lexer": "ipython3",
   "version": "3.5.6"
  }
 },
 "nbformat": 4,
 "nbformat_minor": 2
}
