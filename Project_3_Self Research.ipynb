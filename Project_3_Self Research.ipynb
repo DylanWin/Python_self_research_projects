{
 "cells": [
  {
   "cell_type": "markdown",
   "metadata": {},
   "source": [
    "# Predicting stock price movements with indicators:\n",
    "\n",
    "1) Simple Stock Online News Rating System\n",
    "\n",
    "1.1) Intro (Ez Example)\n",
    "\n",
    "1.2) With API\n",
    "\n",
    "\n",
    "2) Word Search Count Rating System\n",
    "\n",
    "2.1) With API"
   ]
  },
  {
   "cell_type": "markdown",
   "metadata": {},
   "source": [
    "- It is believed that most would make decisions based on latest news that provides information related to stocks of investor's interest or look up their stocks online to determine growth performance of stock.\n",
    "\n",
    "\n",
    "- The motive of this research project is to determine if indicators mentioned above are correlated to direction and magnitude of movement of stock price."
   ]
  },
  {
   "cell_type": "markdown",
   "metadata": {},
   "source": [
    "## 1) Simple Stock Online News Rating System"
   ]
  },
  {
   "cell_type": "markdown",
   "metadata": {},
   "source": [
    "### 1.1) Intro (Example with Apple News during current coronavirus period)"
   ]
  },
  {
   "cell_type": "raw",
   "metadata": {},
   "source": [
    "#### Steps:\n",
    "a) Get stock data and mean returns for stock price ( 01/01/2020 onwards, to reflect on coronavirus (-) stock trend)\n",
    "\n",
    "b) Get Apple news haedlines and published dates from BBC website\n",
    "\n",
    "c) Give rating on news haeadlines (+1 for + impact on stock price, -1 for negative, 0 for unrelated)             ['Expected' column of dataframe below] \n",
    "\n",
    "d) Get rating on stock price movement based on changes in stock price by:\n",
    "    d.1) Getting stock price on published dates of news and the day after\n",
    "    \n",
    "    d.2) Getting % change in stock price from e)\n",
    "    ['Returns' column of dtaaframe below]\n",
    "    \n",
    "    d.3) Rate +1 if % change from f) is larger than (more (+)) negative mean returns of stock, -1 if lower\n",
    "    ['Observed' column of dataframe below]\n",
    "  \n",
    "e) Remove all rows with rating 0 from c) since news has no effect on stock prices (unrelated)\n",
    "\n",
    "# This Section is to determine if ' Stock News' is a good predictor of stock price movements, also assuming that there are no other factors affecting the majority decision of buying or selling stock leading to stock price change."
   ]
  },
  {
   "cell_type": "code",
   "execution_count": 1,
   "metadata": {},
   "outputs": [],
   "source": [
    "# Import required packages\n",
    "import bs4\n",
    "import pandas as pd\n",
    "import requests\n",
    "import datetime\n",
    "import calendar\n",
    "import os\n",
    "import matplotlib.pyplot as plt\n",
    "from alpha_vantage.timeseries import TimeSeries"
   ]
  },
  {
   "cell_type": "code",
   "execution_count": 2,
   "metadata": {},
   "outputs": [],
   "source": [
    "# Set as current directory\n",
    "os.chdir('C:\\\\Users\\\\UX330\\\\Documents\\\\A Uni\\\\Git\\\\Python project self research\\\\Project 1')"
   ]
  },
  {
   "cell_type": "markdown",
   "metadata": {},
   "source": [
    "### a.)"
   ]
  },
  {
   "cell_type": "code",
   "execution_count": 3,
   "metadata": {},
   "outputs": [],
   "source": [
    "# Execute function with API keys\n",
    "with open('ak.txt', 'r') as myFile:\n",
    "    keys=myFile.read()\n",
    "    ts=TimeSeries(key=keys, output_format='pandas')"
   ]
  },
  {
   "cell_type": "code",
   "execution_count": 4,
   "metadata": {},
   "outputs": [],
   "source": [
    "# Get the data\n",
    "aapl_day, meta_data=ts.get_daily(symbol='AAPL', outputsize='full')"
   ]
  },
  {
   "cell_type": "code",
   "execution_count": 5,
   "metadata": {},
   "outputs": [
    {
     "data": {
      "text/html": [
       "<div>\n",
       "<style scoped>\n",
       "    .dataframe tbody tr th:only-of-type {\n",
       "        vertical-align: middle;\n",
       "    }\n",
       "\n",
       "    .dataframe tbody tr th {\n",
       "        vertical-align: top;\n",
       "    }\n",
       "\n",
       "    .dataframe thead th {\n",
       "        text-align: right;\n",
       "    }\n",
       "</style>\n",
       "<table border=\"1\" class=\"dataframe\">\n",
       "  <thead>\n",
       "    <tr style=\"text-align: right;\">\n",
       "      <th></th>\n",
       "      <th>3. low</th>\n",
       "      <th>2. high</th>\n",
       "      <th>5. volume</th>\n",
       "      <th>1. open</th>\n",
       "      <th>4. close</th>\n",
       "    </tr>\n",
       "    <tr>\n",
       "      <th>date</th>\n",
       "      <th></th>\n",
       "      <th></th>\n",
       "      <th></th>\n",
       "      <th></th>\n",
       "      <th></th>\n",
       "    </tr>\n",
       "  </thead>\n",
       "  <tbody>\n",
       "    <tr>\n",
       "      <th>2000-03-20</th>\n",
       "      <td>122.37</td>\n",
       "      <td>126.25</td>\n",
       "      <td>1825800.0</td>\n",
       "      <td>123.50</td>\n",
       "      <td>123.00</td>\n",
       "    </tr>\n",
       "    <tr>\n",
       "      <th>2000-03-21</th>\n",
       "      <td>121.62</td>\n",
       "      <td>136.75</td>\n",
       "      <td>4681500.0</td>\n",
       "      <td>122.56</td>\n",
       "      <td>134.94</td>\n",
       "    </tr>\n",
       "    <tr>\n",
       "      <th>2000-03-22</th>\n",
       "      <td>131.56</td>\n",
       "      <td>144.38</td>\n",
       "      <td>5071400.0</td>\n",
       "      <td>132.78</td>\n",
       "      <td>144.19</td>\n",
       "    </tr>\n",
       "    <tr>\n",
       "      <th>2000-03-23</th>\n",
       "      <td>140.00</td>\n",
       "      <td>150.38</td>\n",
       "      <td>5022900.0</td>\n",
       "      <td>142.00</td>\n",
       "      <td>141.31</td>\n",
       "    </tr>\n",
       "    <tr>\n",
       "      <th>2000-03-24</th>\n",
       "      <td>135.50</td>\n",
       "      <td>143.94</td>\n",
       "      <td>3990300.0</td>\n",
       "      <td>142.44</td>\n",
       "      <td>138.69</td>\n",
       "    </tr>\n",
       "  </tbody>\n",
       "</table>\n",
       "</div>"
      ],
      "text/plain": [
       "            3. low  2. high  5. volume  1. open  4. close\n",
       "date                                                     \n",
       "2000-03-20  122.37   126.25  1825800.0   123.50    123.00\n",
       "2000-03-21  121.62   136.75  4681500.0   122.56    134.94\n",
       "2000-03-22  131.56   144.38  5071400.0   132.78    144.19\n",
       "2000-03-23  140.00   150.38  5022900.0   142.00    141.31\n",
       "2000-03-24  135.50   143.94  3990300.0   142.44    138.69"
      ]
     },
     "execution_count": 5,
     "metadata": {},
     "output_type": "execute_result"
    }
   ],
   "source": [
    "# Display first few rows of data\n",
    "aapl_day.head()"
   ]
  },
  {
   "cell_type": "code",
   "execution_count": 7,
   "metadata": {},
   "outputs": [],
   "source": [
    "# Resampling weekend stock data by interpolation and extracting only data from 1st January 2020 onwards \n",
    "# to match stock data since the beginning of coronavirus.\n",
    "aapl_day=aapl_day.resample('24h').interpolate()\n",
    "aapl_close=aapl_day['4. close']\n",
    "aapl_day_2019=pd.DataFrame(aapl_close['2020-01-01':])"
   ]
  },
  {
   "cell_type": "code",
   "execution_count": 8,
   "metadata": {},
   "outputs": [
    {
     "data": {
      "text/plain": [
       "4. close   -0.003009\n",
       "dtype: float64"
      ]
     },
     "execution_count": 8,
     "metadata": {},
     "output_type": "execute_result"
    }
   ],
   "source": [
    "# Determine average returns to be set as benchmarks in later indictaor\n",
    "aapl_returns=aapl_day_2019.pct_change()\n",
    "aapl_mean_returns=aapl_returns.mean()\n",
    "aapl_mean_returns"
   ]
  },
  {
   "cell_type": "code",
   "execution_count": 9,
   "metadata": {},
   "outputs": [
    {
     "data": {
      "text/plain": [
       "[<matplotlib.lines.Line2D at 0x2c919d66940>]"
      ]
     },
     "execution_count": 9,
     "metadata": {},
     "output_type": "execute_result"
    },
    {
     "data": {
      "image/png": "[encoded data removed]",
      "text/plain": [
       "<Figure size 432x288 with 1 Axes>"
      ]
     },
     "metadata": {
      "needs_background": "light"
     },
     "output_type": "display_data"
    }
   ],
   "source": [
    "# Plot of stock price (closing)\n",
    "plt.plot(aapl_day_2019)"
   ]
  },
  {
   "cell_type": "markdown",
   "metadata": {},
   "source": [
    "### b.)"
   ]
  },
  {
   "cell_type": "code",
   "execution_count": 10,
   "metadata": {},
   "outputs": [],
   "source": [
    "# Getting latest Apple news from bbc website\n",
    "\n",
    "bbc_url = 'https://www.bbc.com/news/topics/crr7mlg0gqqt/apple'\n",
    "bbc_response = requests.get(bbc_url)\n",
    "bbc_title=[]\n",
    "bbc_publish_date=[]\n",
    "\n",
    "bbc_soup = bs4.BeautifulSoup(bbc_response.text, 'lxml')\n",
    "bbc_headlines = bbc_soup.find_all(attrs={\"class\": \"lx-stream-post__header-text\"})\n",
    "\n",
    "\n",
    "bbc_all_dates=bbc_soup.find_all(attrs={\"class\": \"qa-meta-date gs-u-mr gs-u-display-inline-block\"})\n",
    "#all_dates2=soup.find_all(attrs={\"class\": \"qa-meta-date gs-u-mr gs-u-display-inline-block\"})\n",
    "\n",
    "\n",
    "for bbc_headline in bbc_headlines:\n",
    "    bbc_title.append(bbc_headline.text)\n",
    "    \n",
    "for bbc_dates in bbc_all_dates:\n",
    "    bbc_publish_date.append(bbc_dates.text)"
   ]
  },
  {
   "cell_type": "code",
   "execution_count": 11,
   "metadata": {},
   "outputs": [
    {
     "data": {
      "text/plain": [
       "['How to make a WhatsApp video call',\n",
       " 'How to receive a video call without apps',\n",
       " 'How to make a FaceTime call',\n",
       " 'Smartphone sales collapse amid coronavirus crisis',\n",
       " 'Apple hit with record €1.1bn fine in France',\n",
       " \"Apple's annual showcase, WWDC, online only\",\n",
       " 'Apple reopens all its China stores',\n",
       " 'Tricks and tools for better working from home',\n",
       " 'Chinese pair charged with iTunes money laundering',\n",
       " 'Apple settles iPhone slowdown case for $500m']"
      ]
     },
     "execution_count": 11,
     "metadata": {},
     "output_type": "execute_result"
    }
   ],
   "source": [
    "bbc_title"
   ]
  },
  {
   "cell_type": "code",
   "execution_count": 12,
   "metadata": {},
   "outputs": [
    {
     "data": {
      "text/plain": [
       "['22 Mar',\n",
       " '22 Mar',\n",
       " '22 Mar',\n",
       " '20 Mar',\n",
       " '16 Mar',\n",
       " '13 Mar',\n",
       " '13 Mar',\n",
       " '10 Mar',\n",
       " '3 Mar',\n",
       " '2 Mar']"
      ]
     },
     "execution_count": 12,
     "metadata": {},
     "output_type": "execute_result"
    }
   ],
   "source": [
    "bbc_publish_date"
   ]
  },
  {
   "cell_type": "code",
   "execution_count": 13,
   "metadata": {},
   "outputs": [
    {
     "data": {
      "text/plain": [
       "[datetime.datetime(2020, 3, 22, 0, 0),\n",
       " datetime.datetime(2020, 3, 22, 0, 0),\n",
       " datetime.datetime(2020, 3, 22, 0, 0),\n",
       " datetime.datetime(2020, 3, 20, 0, 0),\n",
       " datetime.datetime(2020, 3, 16, 0, 0),\n",
       " datetime.datetime(2020, 3, 13, 0, 0),\n",
       " datetime.datetime(2020, 3, 13, 0, 0),\n",
       " datetime.datetime(2020, 3, 10, 0, 0),\n",
       " datetime.datetime(2020, 3, 3, 0, 0),\n",
       " datetime.datetime(2020, 3, 2, 0, 0)]"
      ]
     },
     "execution_count": 13,
     "metadata": {},
     "output_type": "execute_result"
    }
   ],
   "source": [
    "for i in range(0,len(bbc_publish_date)):\n",
    "    bbc_publish_date[i]=bbc_publish_date[i]+' 2020'\n",
    "    bbc_publish_date[i]= datetime.datetime.strptime(bbc_publish_date[i], '%d %b %Y')\n",
    "\n",
    "bbc_publish_date"
   ]
  },
  {
   "cell_type": "code",
   "execution_count": 14,
   "metadata": {},
   "outputs": [
    {
     "data": {
      "text/html": [
       "<div>\n",
       "<style scoped>\n",
       "    .dataframe tbody tr th:only-of-type {\n",
       "        vertical-align: middle;\n",
       "    }\n",
       "\n",
       "    .dataframe tbody tr th {\n",
       "        vertical-align: top;\n",
       "    }\n",
       "\n",
       "    .dataframe thead th {\n",
       "        text-align: right;\n",
       "    }\n",
       "</style>\n",
       "<table border=\"1\" class=\"dataframe\">\n",
       "  <thead>\n",
       "    <tr style=\"text-align: right;\">\n",
       "      <th></th>\n",
       "      <th>Date</th>\n",
       "      <th>News</th>\n",
       "    </tr>\n",
       "  </thead>\n",
       "  <tbody>\n",
       "    <tr>\n",
       "      <th>0</th>\n",
       "      <td>2020-03-22</td>\n",
       "      <td>How to make a WhatsApp video call</td>\n",
       "    </tr>\n",
       "    <tr>\n",
       "      <th>1</th>\n",
       "      <td>2020-03-22</td>\n",
       "      <td>How to receive a video call without apps</td>\n",
       "    </tr>\n",
       "    <tr>\n",
       "      <th>2</th>\n",
       "      <td>2020-03-22</td>\n",
       "      <td>How to make a FaceTime call</td>\n",
       "    </tr>\n",
       "    <tr>\n",
       "      <th>3</th>\n",
       "      <td>2020-03-20</td>\n",
       "      <td>Smartphone sales collapse amid coronavirus crisis</td>\n",
       "    </tr>\n",
       "    <tr>\n",
       "      <th>4</th>\n",
       "      <td>2020-03-16</td>\n",
       "      <td>Apple hit with record €1.1bn fine in France</td>\n",
       "    </tr>\n",
       "    <tr>\n",
       "      <th>5</th>\n",
       "      <td>2020-03-13</td>\n",
       "      <td>Apple's annual showcase, WWDC, online only</td>\n",
       "    </tr>\n",
       "    <tr>\n",
       "      <th>6</th>\n",
       "      <td>2020-03-13</td>\n",
       "      <td>Apple reopens all its China stores</td>\n",
       "    </tr>\n",
       "    <tr>\n",
       "      <th>7</th>\n",
       "      <td>2020-03-10</td>\n",
       "      <td>Tricks and tools for better working from home</td>\n",
       "    </tr>\n",
       "    <tr>\n",
       "      <th>8</th>\n",
       "      <td>2020-03-03</td>\n",
       "      <td>Chinese pair charged with iTunes money laundering</td>\n",
       "    </tr>\n",
       "    <tr>\n",
       "      <th>9</th>\n",
       "      <td>2020-03-02</td>\n",
       "      <td>Apple settles iPhone slowdown case for $500m</td>\n",
       "    </tr>\n",
       "  </tbody>\n",
       "</table>\n",
       "</div>"
      ],
      "text/plain": [
       "        Date                                               News\n",
       "0 2020-03-22                  How to make a WhatsApp video call\n",
       "1 2020-03-22           How to receive a video call without apps\n",
       "2 2020-03-22                        How to make a FaceTime call\n",
       "3 2020-03-20  Smartphone sales collapse amid coronavirus crisis\n",
       "4 2020-03-16        Apple hit with record €1.1bn fine in France\n",
       "5 2020-03-13         Apple's annual showcase, WWDC, online only\n",
       "6 2020-03-13                 Apple reopens all its China stores\n",
       "7 2020-03-10      Tricks and tools for better working from home\n",
       "8 2020-03-03  Chinese pair charged with iTunes money laundering\n",
       "9 2020-03-02       Apple settles iPhone slowdown case for $500m"
      ]
     },
     "execution_count": 14,
     "metadata": {},
     "output_type": "execute_result"
    }
   ],
   "source": [
    "data={'News': bbc_title, 'Date': bbc_publish_date}\n",
    "data_df=pd.DataFrame(data=data)\n",
    "data_df"
   ]
  },
  {
   "cell_type": "markdown",
   "metadata": {},
   "source": [
    "### c.)"
   ]
  },
  {
   "cell_type": "code",
   "execution_count": 16,
   "metadata": {},
   "outputs": [
    {
     "name": "stdout",
     "output_type": "stream",
     "text": [
      "0\n"
     ]
    },
    {
     "name": "stderr",
     "output_type": "stream",
     "text": [
      "C:\\Users\\UX330\\Anaconda3\\envs\\env_zipline\\lib\\site-packages\\ipykernel_launcher.py:6: SettingWithCopyWarning: \n",
      "A value is trying to be set on a copy of a slice from a DataFrame\n",
      "\n",
      "See the caveats in the documentation: http://pandas.pydata.org/pandas-docs/stable/indexing.html#indexing-view-versus-copy\n",
      "  \n"
     ]
    },
    {
     "name": "stdout",
     "output_type": "stream",
     "text": [
      "0\n",
      "0\n",
      "-1\n",
      "-1\n",
      "-1\n",
      "1\n",
      "0\n",
      "0\n",
      "-1\n"
     ]
    }
   ],
   "source": [
    "data_df['Expected']=0\n",
    "indicator=data_df['Expected']\n",
    "n=len(data_df)\n",
    "\n",
    "for i in range(0,n):\n",
    "    indicator[i]=input()\n",
    "\n",
    "data_df['Expected']=indicator"
   ]
  },
  {
   "cell_type": "code",
   "execution_count": 17,
   "metadata": {},
   "outputs": [
    {
     "data": {
      "text/html": [
       "<div>\n",
       "<style scoped>\n",
       "    .dataframe tbody tr th:only-of-type {\n",
       "        vertical-align: middle;\n",
       "    }\n",
       "\n",
       "    .dataframe tbody tr th {\n",
       "        vertical-align: top;\n",
       "    }\n",
       "\n",
       "    .dataframe thead th {\n",
       "        text-align: right;\n",
       "    }\n",
       "</style>\n",
       "<table border=\"1\" class=\"dataframe\">\n",
       "  <thead>\n",
       "    <tr style=\"text-align: right;\">\n",
       "      <th></th>\n",
       "      <th>Date</th>\n",
       "      <th>News</th>\n",
       "      <th>Expected</th>\n",
       "    </tr>\n",
       "  </thead>\n",
       "  <tbody>\n",
       "    <tr>\n",
       "      <th>0</th>\n",
       "      <td>2020-03-22</td>\n",
       "      <td>How to make a WhatsApp video call</td>\n",
       "      <td>0</td>\n",
       "    </tr>\n",
       "    <tr>\n",
       "      <th>1</th>\n",
       "      <td>2020-03-22</td>\n",
       "      <td>How to receive a video call without apps</td>\n",
       "      <td>0</td>\n",
       "    </tr>\n",
       "    <tr>\n",
       "      <th>2</th>\n",
       "      <td>2020-03-22</td>\n",
       "      <td>How to make a FaceTime call</td>\n",
       "      <td>0</td>\n",
       "    </tr>\n",
       "    <tr>\n",
       "      <th>3</th>\n",
       "      <td>2020-03-20</td>\n",
       "      <td>Smartphone sales collapse amid coronavirus crisis</td>\n",
       "      <td>-1</td>\n",
       "    </tr>\n",
       "    <tr>\n",
       "      <th>4</th>\n",
       "      <td>2020-03-16</td>\n",
       "      <td>Apple hit with record €1.1bn fine in France</td>\n",
       "      <td>-1</td>\n",
       "    </tr>\n",
       "    <tr>\n",
       "      <th>5</th>\n",
       "      <td>2020-03-13</td>\n",
       "      <td>Apple's annual showcase, WWDC, online only</td>\n",
       "      <td>-1</td>\n",
       "    </tr>\n",
       "    <tr>\n",
       "      <th>6</th>\n",
       "      <td>2020-03-13</td>\n",
       "      <td>Apple reopens all its China stores</td>\n",
       "      <td>1</td>\n",
       "    </tr>\n",
       "    <tr>\n",
       "      <th>7</th>\n",
       "      <td>2020-03-10</td>\n",
       "      <td>Tricks and tools for better working from home</td>\n",
       "      <td>0</td>\n",
       "    </tr>\n",
       "    <tr>\n",
       "      <th>8</th>\n",
       "      <td>2020-03-03</td>\n",
       "      <td>Chinese pair charged with iTunes money laundering</td>\n",
       "      <td>0</td>\n",
       "    </tr>\n",
       "    <tr>\n",
       "      <th>9</th>\n",
       "      <td>2020-03-02</td>\n",
       "      <td>Apple settles iPhone slowdown case for $500m</td>\n",
       "      <td>-1</td>\n",
       "    </tr>\n",
       "  </tbody>\n",
       "</table>\n",
       "</div>"
      ],
      "text/plain": [
       "        Date                                               News  Expected\n",
       "0 2020-03-22                  How to make a WhatsApp video call         0\n",
       "1 2020-03-22           How to receive a video call without apps         0\n",
       "2 2020-03-22                        How to make a FaceTime call         0\n",
       "3 2020-03-20  Smartphone sales collapse amid coronavirus crisis        -1\n",
       "4 2020-03-16        Apple hit with record €1.1bn fine in France        -1\n",
       "5 2020-03-13         Apple's annual showcase, WWDC, online only        -1\n",
       "6 2020-03-13                 Apple reopens all its China stores         1\n",
       "7 2020-03-10      Tricks and tools for better working from home         0\n",
       "8 2020-03-03  Chinese pair charged with iTunes money laundering         0\n",
       "9 2020-03-02       Apple settles iPhone slowdown case for $500m        -1"
      ]
     },
     "execution_count": 17,
     "metadata": {},
     "output_type": "execute_result"
    }
   ],
   "source": [
    "# Extracted data from bbc apple news website and also predicted stock price rise/fall indicator\n",
    "aapl_day_2019=aapl_day_2019.reset_index()\n",
    "data_df"
   ]
  },
  {
   "cell_type": "markdown",
   "metadata": {},
   "source": [
    "### d.)"
   ]
  },
  {
   "cell_type": "code",
   "execution_count": 18,
   "metadata": {},
   "outputs": [],
   "source": [
    "data_df_date=data_df['Date']\n",
    "aapl_date=aapl_day_2019['date']\n",
    "#data_df['Observed']=''\n",
    "#data_df['Returns']=''\n",
    "all_observed=[]\n",
    "all_returns=[]\n",
    "\n",
    "for i in range(0,len(data_df)): \n",
    "    row_index_1=aapl_date.loc[aapl_date == data_df_date[i]].index\n",
    "    row_index_1=row_index_1[0]\n",
    "    row_index_2=row_index_1+1\n",
    "    value_1, value_2= aapl_day_2019.iloc[row_index_1]['4. close'], aapl_day_2019.iloc[row_index_2]['4. close']\n",
    "    returns=((value_2-value_1)/value_2)\n",
    "    \n",
    "    if returns<=float(aapl_mean_returns):\n",
    "        all_observed.append(-1)\n",
    "    else:\n",
    "        all_observed.append(1)\n",
    "        \n",
    "    all_returns.append(returns)\n",
    "    "
   ]
  },
  {
   "cell_type": "code",
   "execution_count": 19,
   "metadata": {},
   "outputs": [],
   "source": [
    "data_df['Observed']=all_observed\n",
    "data_df['Returns']=all_returns\n"
   ]
  },
  {
   "cell_type": "code",
   "execution_count": 20,
   "metadata": {},
   "outputs": [
    {
     "data": {
      "text/html": [
       "<div>\n",
       "<style scoped>\n",
       "    .dataframe tbody tr th:only-of-type {\n",
       "        vertical-align: middle;\n",
       "    }\n",
       "\n",
       "    .dataframe tbody tr th {\n",
       "        vertical-align: top;\n",
       "    }\n",
       "\n",
       "    .dataframe thead th {\n",
       "        text-align: right;\n",
       "    }\n",
       "</style>\n",
       "<table border=\"1\" class=\"dataframe\">\n",
       "  <thead>\n",
       "    <tr style=\"text-align: right;\">\n",
       "      <th></th>\n",
       "      <th>Date</th>\n",
       "      <th>News</th>\n",
       "      <th>Expected</th>\n",
       "      <th>Observed</th>\n",
       "      <th>Returns</th>\n",
       "    </tr>\n",
       "  </thead>\n",
       "  <tbody>\n",
       "    <tr>\n",
       "      <th>0</th>\n",
       "      <td>2020-03-22</td>\n",
       "      <td>How to make a WhatsApp video call</td>\n",
       "      <td>0</td>\n",
       "      <td>-1</td>\n",
       "      <td>-0.007235</td>\n",
       "    </tr>\n",
       "    <tr>\n",
       "      <th>1</th>\n",
       "      <td>2020-03-22</td>\n",
       "      <td>How to receive a video call without apps</td>\n",
       "      <td>0</td>\n",
       "      <td>-1</td>\n",
       "      <td>-0.007235</td>\n",
       "    </tr>\n",
       "    <tr>\n",
       "      <th>2</th>\n",
       "      <td>2020-03-22</td>\n",
       "      <td>How to make a FaceTime call</td>\n",
       "      <td>0</td>\n",
       "      <td>-1</td>\n",
       "      <td>-0.007235</td>\n",
       "    </tr>\n",
       "    <tr>\n",
       "      <th>3</th>\n",
       "      <td>2020-03-20</td>\n",
       "      <td>Smartphone sales collapse amid coronavirus crisis</td>\n",
       "      <td>-1</td>\n",
       "      <td>-1</td>\n",
       "      <td>-0.007132</td>\n",
       "    </tr>\n",
       "    <tr>\n",
       "      <th>4</th>\n",
       "      <td>2020-03-16</td>\n",
       "      <td>Apple hit with record €1.1bn fine in France</td>\n",
       "      <td>-1</td>\n",
       "      <td>1</td>\n",
       "      <td>0.042118</td>\n",
       "    </tr>\n",
       "    <tr>\n",
       "      <th>5</th>\n",
       "      <td>2020-03-13</td>\n",
       "      <td>Apple's annual showcase, WWDC, online only</td>\n",
       "      <td>-1</td>\n",
       "      <td>-1</td>\n",
       "      <td>-0.044804</td>\n",
       "    </tr>\n",
       "    <tr>\n",
       "      <th>6</th>\n",
       "      <td>2020-03-13</td>\n",
       "      <td>Apple reopens all its China stores</td>\n",
       "      <td>1</td>\n",
       "      <td>-1</td>\n",
       "      <td>-0.044804</td>\n",
       "    </tr>\n",
       "    <tr>\n",
       "      <th>7</th>\n",
       "      <td>2020-03-10</td>\n",
       "      <td>Tricks and tools for better working from home</td>\n",
       "      <td>0</td>\n",
       "      <td>-1</td>\n",
       "      <td>-0.035980</td>\n",
       "    </tr>\n",
       "    <tr>\n",
       "      <th>8</th>\n",
       "      <td>2020-03-03</td>\n",
       "      <td>Chinese pair charged with iTunes money laundering</td>\n",
       "      <td>0</td>\n",
       "      <td>1</td>\n",
       "      <td>0.044328</td>\n",
       "    </tr>\n",
       "    <tr>\n",
       "      <th>9</th>\n",
       "      <td>2020-03-02</td>\n",
       "      <td>Apple settles iPhone slowdown case for $500m</td>\n",
       "      <td>-1</td>\n",
       "      <td>-1</td>\n",
       "      <td>-0.032801</td>\n",
       "    </tr>\n",
       "  </tbody>\n",
       "</table>\n",
       "</div>"
      ],
      "text/plain": [
       "        Date                                               News  Expected  \\\n",
       "0 2020-03-22                  How to make a WhatsApp video call         0   \n",
       "1 2020-03-22           How to receive a video call without apps         0   \n",
       "2 2020-03-22                        How to make a FaceTime call         0   \n",
       "3 2020-03-20  Smartphone sales collapse amid coronavirus crisis        -1   \n",
       "4 2020-03-16        Apple hit with record €1.1bn fine in France        -1   \n",
       "5 2020-03-13         Apple's annual showcase, WWDC, online only        -1   \n",
       "6 2020-03-13                 Apple reopens all its China stores         1   \n",
       "7 2020-03-10      Tricks and tools for better working from home         0   \n",
       "8 2020-03-03  Chinese pair charged with iTunes money laundering         0   \n",
       "9 2020-03-02       Apple settles iPhone slowdown case for $500m        -1   \n",
       "\n",
       "   Observed   Returns  \n",
       "0        -1 -0.007235  \n",
       "1        -1 -0.007235  \n",
       "2        -1 -0.007235  \n",
       "3        -1 -0.007132  \n",
       "4         1  0.042118  \n",
       "5        -1 -0.044804  \n",
       "6        -1 -0.044804  \n",
       "7        -1 -0.035980  \n",
       "8         1  0.044328  \n",
       "9        -1 -0.032801  "
      ]
     },
     "execution_count": 20,
     "metadata": {},
     "output_type": "execute_result"
    }
   ],
   "source": [
    "data_df"
   ]
  },
  {
   "cell_type": "markdown",
   "metadata": {},
   "source": [
    "### e.)"
   ]
  },
  {
   "cell_type": "code",
   "execution_count": 21,
   "metadata": {},
   "outputs": [
    {
     "data": {
      "text/html": [
       "<div>\n",
       "<style scoped>\n",
       "    .dataframe tbody tr th:only-of-type {\n",
       "        vertical-align: middle;\n",
       "    }\n",
       "\n",
       "    .dataframe tbody tr th {\n",
       "        vertical-align: top;\n",
       "    }\n",
       "\n",
       "    .dataframe thead th {\n",
       "        text-align: right;\n",
       "    }\n",
       "</style>\n",
       "<table border=\"1\" class=\"dataframe\">\n",
       "  <thead>\n",
       "    <tr style=\"text-align: right;\">\n",
       "      <th></th>\n",
       "      <th>Date</th>\n",
       "      <th>News</th>\n",
       "      <th>Expected</th>\n",
       "      <th>Observed</th>\n",
       "      <th>Returns</th>\n",
       "    </tr>\n",
       "  </thead>\n",
       "  <tbody>\n",
       "    <tr>\n",
       "      <th>3</th>\n",
       "      <td>2020-03-20</td>\n",
       "      <td>Smartphone sales collapse amid coronavirus crisis</td>\n",
       "      <td>-1</td>\n",
       "      <td>-1</td>\n",
       "      <td>-0.007132</td>\n",
       "    </tr>\n",
       "    <tr>\n",
       "      <th>4</th>\n",
       "      <td>2020-03-16</td>\n",
       "      <td>Apple hit with record €1.1bn fine in France</td>\n",
       "      <td>-1</td>\n",
       "      <td>1</td>\n",
       "      <td>0.042118</td>\n",
       "    </tr>\n",
       "    <tr>\n",
       "      <th>5</th>\n",
       "      <td>2020-03-13</td>\n",
       "      <td>Apple's annual showcase, WWDC, online only</td>\n",
       "      <td>-1</td>\n",
       "      <td>-1</td>\n",
       "      <td>-0.044804</td>\n",
       "    </tr>\n",
       "    <tr>\n",
       "      <th>6</th>\n",
       "      <td>2020-03-13</td>\n",
       "      <td>Apple reopens all its China stores</td>\n",
       "      <td>1</td>\n",
       "      <td>-1</td>\n",
       "      <td>-0.044804</td>\n",
       "    </tr>\n",
       "    <tr>\n",
       "      <th>9</th>\n",
       "      <td>2020-03-02</td>\n",
       "      <td>Apple settles iPhone slowdown case for $500m</td>\n",
       "      <td>-1</td>\n",
       "      <td>-1</td>\n",
       "      <td>-0.032801</td>\n",
       "    </tr>\n",
       "  </tbody>\n",
       "</table>\n",
       "</div>"
      ],
      "text/plain": [
       "        Date                                               News  Expected  \\\n",
       "3 2020-03-20  Smartphone sales collapse amid coronavirus crisis        -1   \n",
       "4 2020-03-16        Apple hit with record €1.1bn fine in France        -1   \n",
       "5 2020-03-13         Apple's annual showcase, WWDC, online only        -1   \n",
       "6 2020-03-13                 Apple reopens all its China stores         1   \n",
       "9 2020-03-02       Apple settles iPhone slowdown case for $500m        -1   \n",
       "\n",
       "   Observed   Returns  \n",
       "3        -1 -0.007132  \n",
       "4         1  0.042118  \n",
       "5        -1 -0.044804  \n",
       "6        -1 -0.044804  \n",
       "9        -1 -0.032801  "
      ]
     },
     "execution_count": 21,
     "metadata": {},
     "output_type": "execute_result"
    }
   ],
   "source": [
    "data_df_2=data_df[data_df['Expected']!=0]\n",
    "data_df_2"
   ]
  },
  {
   "cell_type": "markdown",
   "metadata": {},
   "source": [
    "## Summary\n",
    "It seems that the Apple News was only abe to get predict 60% of the stock price movements correctly( 3 out of 5),\n",
    "but note that:\n",
    "\n",
    "1) this is only a very small dataset as example\n",
    "\n",
    "2) coronavirus virus certainly adds to the market uncertainty and stockholder panicking \n",
    "\n",
    "thus making it hard to predict future market movements although long term trend is a \n",
    "expected to be a downward slide in prices as seen in earlier plots."
   ]
  },
  {
   "cell_type": "markdown",
   "metadata": {},
   "source": [
    "# To Be Continued...."
   ]
  }
 ],
 "metadata": {
  "kernelspec": {
   "display_name": "DylanZipline1.3.0",
   "language": "python",
   "name": "dylanzipline1.3.0"
  },
  "language_info": {
   "codemirror_mode": {
    "name": "ipython",
    "version": 3
   },
   "file_extension": ".py",
   "mimetype": "text/x-python",
   "name": "python",
   "nbconvert_exporter": "python",
   "pygments_lexer": "ipython3",
   "version": "3.5.6"
  }
 },
 "nbformat": 4,
 "nbformat_minor": 2
}
